{
  "nbformat": 4,
  "nbformat_minor": 0,
  "metadata": {
    "colab": {
      "name": "COVID_19_Brasil_e_no_Mundo.ipynb",
      "provenance": [],
      "collapsed_sections": [],
      "toc_visible": true,
      "authorship_tag": "ABX9TyPsS120hzmWuTSOH0sMK5E5",
      "include_colab_link": true
    },
    "kernelspec": {
      "name": "python3",
      "display_name": "Python 3"
    }
  },
  "cells": [
    {
      "cell_type": "markdown",
      "metadata": {
        "id": "view-in-github",
        "colab_type": "text"
      },
      "source": [
        "<a href=\"https://colab.research.google.com/github/joao-pires/data_science/blob/master/COVID_19_Brasil_e_no_Mundo.ipynb\" target=\"_parent\"><img src=\"https://colab.research.google.com/assets/colab-badge.svg\" alt=\"Open In Colab\"/></a>"
      ]
    },
    {
      "cell_type": "markdown",
      "metadata": {
        "id": "-VFjUeE98OjF",
        "colab_type": "text"
      },
      "source": [
        "# Análise COVID-19\n",
        "\n",
        "Em dezembro de 2019 houve uma transmissão de um novo coronavírus (SARS-CoV-2), o qual foi identificado em Wuhan na China e causou o COVID-19, sendo em seguida disseminada e transmitida de pessoa a pessoa. \n",
        "\n",
        "A transmissão acontece de uma pessoa doente para outra geralmente por gotículas de saliva. \n",
        "\n",
        "Os sistomas da doença podem variar de um resfriado, a uma Síndrome Gripal-SG (presença de um quadro respiratório agudo). \n",
        "\n",
        "Ainda pouco se sabe a respeito do COVID-19, estudos estão sendo feitos pelo mundo todo em busca de mais conhecimentos sobre o vírus e de uma possível vacina.\n",
        "\n",
        "<center><img alt=\"Colaboratory logo\" width=\"50%\" src=\"https://raw.githubusercontent.com/joao-pires/data_science/master/datasets/3916104.jpg\"></center>\n",
        "\n",
        "Cerca de 80% dos casos são assintomáticos ou com poucos sintomas, e aproximadamente 20% dos casos requer atendimento hospitalar por apresentarem dificuldades respiratórias. \n",
        "\n",
        "O objetivo deste projeto é aumentar o conhecimento situacional da COVID-19 no Brasil, através de uma análise de dados pública da doença. "
      ]
    },
    {
      "cell_type": "markdown",
      "metadata": {
        "id": "YX-oi7XaEv0f",
        "colab_type": "text"
      },
      "source": [
        "##Obtenção dos Dados\n",
        "\n",
        "Os dados foram obtidos e são mantidos pelo [Our World in Data](https://https://ourworldindata.org/coronavirus). É atualizado diariamente e inclui dados sobre casos confirmados, mortes e testes, além de outras variáveis ​​de interesse em potencial.\n",
        "\n",
        "### Dicionário de Variáveis\n",
        "\n",
        "* `iso_code` - Código de países\n",
        "* `Continent` - Continente da localização geográfica\n",
        "* `location` - Localização geográfica\n",
        "* `date` - Data da observação\n",
        "* `total_cases` - Total de casos confirmados da COVID-19  \n",
        "* `new_cases` - Novos casos confirmados de COVID-19 \n",
        "* `total_cases_per_million` - Total de casos confirmados por 1 milhão de pessoas\n",
        "* `new_cases_per_million` - Novos casos confirmados por 1 milhão de pessoas.\n",
        "* `total_deaths_per_million` - Total de mortes por 1 milhão de pessoas\n",
        "* `new_deaths_per_million` - Novas mortes por 1 milhão de pessoas\n",
        "* `total_tests` - Total de testes \n",
        "* `new_tests` - Novos testes\n",
        "* `new_tests_smoothed` - Novos testes nos ultimos 7 dias \n",
        "* `total_tests_per_thousand` - Novos testes por 1.000 pessoas\n",
        "* `new_tests_per_thousand` - Novos testes por 1.000 pessoas\n",
        "* `new_tests_smoothed_per_thousand` - Novos testes nos ultimos 7 dias por 1.000 pessoas\n",
        "* `tests_units` - Unidades usados para relatar dados de testes\n",
        "* `stringency_index` - Índice de rigidez impostas pelo governo. Como por exemplo fechamento de escolas, locais de trabalho, proibições de viagens, etc. Redimensionada para um valor de 0 a 100 (100 = Mais restrição)\n",
        "* `population` - População em 2020\n",
        "* `population_density` - Número de pessoas dividas por área terrestre\n",
        "* `median_age` - Idade média da população\n",
        "* `aged_65_older` - Proporção da população com 65 anos ou mais\n",
        "* `gdp_per_capita` - PIB com paridade do poder de compra\n",
        "* `extreme_poverty` - Porcentagem da população que vive em extrema pobreza, ultimo ano disponível desde 2010\n",
        "* `cardiovasc_death_rate` - Taxa de mortalidade por doenças cardiovasculares em 2017 (numero anual de mortes por 100.00 pessoas)\n",
        "* `diabetes_prevalence` - Prevalência de diabetes (% da população entre 20 e 79 anos) em 2017\n",
        "* `female_smokers ` - Porcentagem de mulheres que fumam\n",
        "* `male_smokers` - Porcentagem de homens que fumam\n",
        "* `handwashing_facilities` - Porcentagem da população com instalações básicas de lavagem de mãos nas instalações\n",
        "* `hospital_beds_per_thousand` - Camas de hospitais por 1.000 pessoas\n",
        "* `life_expectancy` - Expectativa de vida no nascimento em 2019\n",
        "###Importando os Dados\n",
        "\n",
        "Usaremos o formato `csv`  neste projeto que pode ser baixado através deste [link](https://github.com/owid/covid-19-data/tree/master/public/data)\n",
        "."
      ]
    },
    {
      "cell_type": "code",
      "metadata": {
        "id": "JvMWKPos0kW9",
        "colab_type": "code",
        "colab": {
          "base_uri": "https://localhost:8080/",
          "height": 221
        },
        "outputId": "6131b87a-d028-4198-f72f-4eee0864a503"
      },
      "source": [
        "# instalando a biblioteca pywaffle\n",
        "\n",
        "!pip install pywaffle"
      ],
      "execution_count": 3,
      "outputs": [
        {
          "output_type": "stream",
          "text": [
            "Collecting pywaffle\n",
            "\u001b[?25l  Downloading https://files.pythonhosted.org/packages/e2/93/9a1e014fef383149b0f6dccdb8b2f2126d8827d4d48f2884949d6f8769ea/pywaffle-0.6.1-py2.py3-none-any.whl (526kB)\n",
            "\r\u001b[K     |▋                               | 10kB 16.5MB/s eta 0:00:01\r\u001b[K     |█▎                              | 20kB 2.8MB/s eta 0:00:01\r\u001b[K     |█▉                              | 30kB 3.6MB/s eta 0:00:01\r\u001b[K     |██▌                             | 40kB 4.0MB/s eta 0:00:01\r\u001b[K     |███                             | 51kB 3.3MB/s eta 0:00:01\r\u001b[K     |███▊                            | 61kB 3.6MB/s eta 0:00:01\r\u001b[K     |████▍                           | 71kB 4.0MB/s eta 0:00:01\r\u001b[K     |█████                           | 81kB 4.3MB/s eta 0:00:01\r\u001b[K     |█████▋                          | 92kB 4.6MB/s eta 0:00:01\r\u001b[K     |██████▏                         | 102kB 4.5MB/s eta 0:00:01\r\u001b[K     |██████▉                         | 112kB 4.5MB/s eta 0:00:01\r\u001b[K     |███████▌                        | 122kB 4.5MB/s eta 0:00:01\r\u001b[K     |████████                        | 133kB 4.5MB/s eta 0:00:01\r\u001b[K     |████████▊                       | 143kB 4.5MB/s eta 0:00:01\r\u001b[K     |█████████▎                      | 153kB 4.5MB/s eta 0:00:01\r\u001b[K     |██████████                      | 163kB 4.5MB/s eta 0:00:01\r\u001b[K     |██████████▋                     | 174kB 4.5MB/s eta 0:00:01\r\u001b[K     |███████████▏                    | 184kB 4.5MB/s eta 0:00:01\r\u001b[K     |███████████▉                    | 194kB 4.5MB/s eta 0:00:01\r\u001b[K     |████████████▍                   | 204kB 4.5MB/s eta 0:00:01\r\u001b[K     |█████████████                   | 215kB 4.5MB/s eta 0:00:01\r\u001b[K     |█████████████▊                  | 225kB 4.5MB/s eta 0:00:01\r\u001b[K     |██████████████▎                 | 235kB 4.5MB/s eta 0:00:01\r\u001b[K     |███████████████                 | 245kB 4.5MB/s eta 0:00:01\r\u001b[K     |███████████████▌                | 256kB 4.5MB/s eta 0:00:01\r\u001b[K     |████████████████▏               | 266kB 4.5MB/s eta 0:00:01\r\u001b[K     |████████████████▉               | 276kB 4.5MB/s eta 0:00:01\r\u001b[K     |█████████████████▍              | 286kB 4.5MB/s eta 0:00:01\r\u001b[K     |██████████████████              | 296kB 4.5MB/s eta 0:00:01\r\u001b[K     |██████████████████▋             | 307kB 4.5MB/s eta 0:00:01\r\u001b[K     |███████████████████▎            | 317kB 4.5MB/s eta 0:00:01\r\u001b[K     |████████████████████            | 327kB 4.5MB/s eta 0:00:01\r\u001b[K     |████████████████████▌           | 337kB 4.5MB/s eta 0:00:01\r\u001b[K     |█████████████████████▏          | 348kB 4.5MB/s eta 0:00:01\r\u001b[K     |█████████████████████▊          | 358kB 4.5MB/s eta 0:00:01\r\u001b[K     |██████████████████████▍         | 368kB 4.5MB/s eta 0:00:01\r\u001b[K     |███████████████████████         | 378kB 4.5MB/s eta 0:00:01\r\u001b[K     |███████████████████████▋        | 389kB 4.5MB/s eta 0:00:01\r\u001b[K     |████████████████████████▎       | 399kB 4.5MB/s eta 0:00:01\r\u001b[K     |████████████████████████▉       | 409kB 4.5MB/s eta 0:00:01\r\u001b[K     |█████████████████████████▌      | 419kB 4.5MB/s eta 0:00:01\r\u001b[K     |██████████████████████████▏     | 430kB 4.5MB/s eta 0:00:01\r\u001b[K     |██████████████████████████▊     | 440kB 4.5MB/s eta 0:00:01\r\u001b[K     |███████████████████████████▍    | 450kB 4.5MB/s eta 0:00:01\r\u001b[K     |████████████████████████████    | 460kB 4.5MB/s eta 0:00:01\r\u001b[K     |████████████████████████████▋   | 471kB 4.5MB/s eta 0:00:01\r\u001b[K     |█████████████████████████████▎  | 481kB 4.5MB/s eta 0:00:01\r\u001b[K     |█████████████████████████████▉  | 491kB 4.5MB/s eta 0:00:01\r\u001b[K     |██████████████████████████████▌ | 501kB 4.5MB/s eta 0:00:01\r\u001b[K     |███████████████████████████████ | 512kB 4.5MB/s eta 0:00:01\r\u001b[K     |███████████████████████████████▊| 522kB 4.5MB/s eta 0:00:01\r\u001b[K     |████████████████████████████████| 532kB 4.5MB/s \n",
            "\u001b[?25hRequirement already satisfied: matplotlib in /usr/local/lib/python3.6/dist-packages (from pywaffle) (3.2.2)\n",
            "Requirement already satisfied: cycler>=0.10 in /usr/local/lib/python3.6/dist-packages (from matplotlib->pywaffle) (0.10.0)\n",
            "Requirement already satisfied: numpy>=1.11 in /usr/local/lib/python3.6/dist-packages (from matplotlib->pywaffle) (1.18.5)\n",
            "Requirement already satisfied: kiwisolver>=1.0.1 in /usr/local/lib/python3.6/dist-packages (from matplotlib->pywaffle) (1.2.0)\n",
            "Requirement already satisfied: python-dateutil>=2.1 in /usr/local/lib/python3.6/dist-packages (from matplotlib->pywaffle) (2.8.1)\n",
            "Requirement already satisfied: pyparsing!=2.0.4,!=2.1.2,!=2.1.6,>=2.0.1 in /usr/local/lib/python3.6/dist-packages (from matplotlib->pywaffle) (2.4.7)\n",
            "Requirement already satisfied: six in /usr/local/lib/python3.6/dist-packages (from cycler>=0.10->matplotlib->pywaffle) (1.15.0)\n",
            "Installing collected packages: pywaffle\n",
            "Successfully installed pywaffle-0.6.1\n"
          ],
          "name": "stdout"
        }
      ]
    },
    {
      "cell_type": "code",
      "metadata": {
        "id": "Ed-6TN0Dpctn",
        "colab_type": "code",
        "colab": {
          "base_uri": "https://localhost:8080/",
          "height": 71
        },
        "outputId": "b1cb7bdd-f267-4b93-fd47-5aed54f23fd9"
      },
      "source": [
        "# importando as bibliotecas\n",
        "\n",
        "import pandas as pd\n",
        "import matplotlib.pyplot as plt\n",
        "import seaborn as sns\n",
        "from pywaffle import Waffle\n",
        "# importando o dataset COVID-19 para um DataFrame\n",
        "\n",
        "df = pd.read_csv(\"https://raw.githubusercontent.com/owid/covid-19-data/master/public/data/owid-covid-data.csv\")"
      ],
      "execution_count": 4,
      "outputs": [
        {
          "output_type": "stream",
          "text": [
            "/usr/local/lib/python3.6/dist-packages/statsmodels/tools/_testing.py:19: FutureWarning: pandas.util.testing is deprecated. Use the functions in the public API at pandas.testing instead.\n",
            "  import pandas.util.testing as tm\n"
          ],
          "name": "stderr"
        }
      ]
    },
    {
      "cell_type": "markdown",
      "metadata": {
        "id": "8h4Os0axFhJj",
        "colab_type": "text"
      },
      "source": [
        "##Análise Exploratória dos Dados\n",
        "\n"
      ]
    },
    {
      "cell_type": "markdown",
      "metadata": {
        "id": "t4k-0u7aTveq",
        "colab_type": "text"
      },
      "source": [
        "\n",
        "\n",
        "#### Analisando as 5 primeiras entradas\n",
        "\n",
        "Primeiramente vamos analisar qual a cara do nosso `dataset`, analisando as 5 primeiras entradas e seus respectivos dados.\n"
      ]
    },
    {
      "cell_type": "code",
      "metadata": {
        "id": "ICWyS3OGplwe",
        "colab_type": "code",
        "colab": {
          "base_uri": "https://localhost:8080/",
          "height": 309
        },
        "outputId": "813bbc0a-0940-4594-d933-a725e74cdeb3"
      },
      "source": [
        "# Analisando as 5 primeiras entradas\n",
        "\n",
        "df.head()"
      ],
      "execution_count": 5,
      "outputs": [
        {
          "output_type": "execute_result",
          "data": {
            "text/html": [
              "<div>\n",
              "<style scoped>\n",
              "    .dataframe tbody tr th:only-of-type {\n",
              "        vertical-align: middle;\n",
              "    }\n",
              "\n",
              "    .dataframe tbody tr th {\n",
              "        vertical-align: top;\n",
              "    }\n",
              "\n",
              "    .dataframe thead th {\n",
              "        text-align: right;\n",
              "    }\n",
              "</style>\n",
              "<table border=\"1\" class=\"dataframe\">\n",
              "  <thead>\n",
              "    <tr style=\"text-align: right;\">\n",
              "      <th></th>\n",
              "      <th>iso_code</th>\n",
              "      <th>continent</th>\n",
              "      <th>location</th>\n",
              "      <th>date</th>\n",
              "      <th>total_cases</th>\n",
              "      <th>new_cases</th>\n",
              "      <th>new_cases_smoothed</th>\n",
              "      <th>total_deaths</th>\n",
              "      <th>new_deaths</th>\n",
              "      <th>new_deaths_smoothed</th>\n",
              "      <th>total_cases_per_million</th>\n",
              "      <th>new_cases_per_million</th>\n",
              "      <th>new_cases_smoothed_per_million</th>\n",
              "      <th>total_deaths_per_million</th>\n",
              "      <th>new_deaths_per_million</th>\n",
              "      <th>new_deaths_smoothed_per_million</th>\n",
              "      <th>new_tests</th>\n",
              "      <th>total_tests</th>\n",
              "      <th>total_tests_per_thousand</th>\n",
              "      <th>new_tests_per_thousand</th>\n",
              "      <th>new_tests_smoothed</th>\n",
              "      <th>new_tests_smoothed_per_thousand</th>\n",
              "      <th>tests_per_case</th>\n",
              "      <th>positive_rate</th>\n",
              "      <th>tests_units</th>\n",
              "      <th>stringency_index</th>\n",
              "      <th>population</th>\n",
              "      <th>population_density</th>\n",
              "      <th>median_age</th>\n",
              "      <th>aged_65_older</th>\n",
              "      <th>aged_70_older</th>\n",
              "      <th>gdp_per_capita</th>\n",
              "      <th>extreme_poverty</th>\n",
              "      <th>cardiovasc_death_rate</th>\n",
              "      <th>diabetes_prevalence</th>\n",
              "      <th>female_smokers</th>\n",
              "      <th>male_smokers</th>\n",
              "      <th>handwashing_facilities</th>\n",
              "      <th>hospital_beds_per_thousand</th>\n",
              "      <th>life_expectancy</th>\n",
              "    </tr>\n",
              "  </thead>\n",
              "  <tbody>\n",
              "    <tr>\n",
              "      <th>0</th>\n",
              "      <td>ABW</td>\n",
              "      <td>North America</td>\n",
              "      <td>Aruba</td>\n",
              "      <td>2020-03-13</td>\n",
              "      <td>2.0</td>\n",
              "      <td>2.0</td>\n",
              "      <td>NaN</td>\n",
              "      <td>0.0</td>\n",
              "      <td>0.0</td>\n",
              "      <td>NaN</td>\n",
              "      <td>18.733</td>\n",
              "      <td>18.733</td>\n",
              "      <td>NaN</td>\n",
              "      <td>0.0</td>\n",
              "      <td>0.0</td>\n",
              "      <td>NaN</td>\n",
              "      <td>NaN</td>\n",
              "      <td>NaN</td>\n",
              "      <td>NaN</td>\n",
              "      <td>NaN</td>\n",
              "      <td>NaN</td>\n",
              "      <td>NaN</td>\n",
              "      <td>NaN</td>\n",
              "      <td>NaN</td>\n",
              "      <td>NaN</td>\n",
              "      <td>0.00</td>\n",
              "      <td>106766.0</td>\n",
              "      <td>584.8</td>\n",
              "      <td>41.2</td>\n",
              "      <td>13.085</td>\n",
              "      <td>7.452</td>\n",
              "      <td>35973.781</td>\n",
              "      <td>NaN</td>\n",
              "      <td>NaN</td>\n",
              "      <td>11.62</td>\n",
              "      <td>NaN</td>\n",
              "      <td>NaN</td>\n",
              "      <td>NaN</td>\n",
              "      <td>NaN</td>\n",
              "      <td>76.29</td>\n",
              "    </tr>\n",
              "    <tr>\n",
              "      <th>1</th>\n",
              "      <td>ABW</td>\n",
              "      <td>North America</td>\n",
              "      <td>Aruba</td>\n",
              "      <td>2020-03-19</td>\n",
              "      <td>NaN</td>\n",
              "      <td>NaN</td>\n",
              "      <td>0.286</td>\n",
              "      <td>NaN</td>\n",
              "      <td>NaN</td>\n",
              "      <td>0.0</td>\n",
              "      <td>NaN</td>\n",
              "      <td>NaN</td>\n",
              "      <td>2.676</td>\n",
              "      <td>NaN</td>\n",
              "      <td>NaN</td>\n",
              "      <td>0.0</td>\n",
              "      <td>NaN</td>\n",
              "      <td>NaN</td>\n",
              "      <td>NaN</td>\n",
              "      <td>NaN</td>\n",
              "      <td>NaN</td>\n",
              "      <td>NaN</td>\n",
              "      <td>NaN</td>\n",
              "      <td>NaN</td>\n",
              "      <td>NaN</td>\n",
              "      <td>33.33</td>\n",
              "      <td>106766.0</td>\n",
              "      <td>584.8</td>\n",
              "      <td>41.2</td>\n",
              "      <td>13.085</td>\n",
              "      <td>7.452</td>\n",
              "      <td>35973.781</td>\n",
              "      <td>NaN</td>\n",
              "      <td>NaN</td>\n",
              "      <td>11.62</td>\n",
              "      <td>NaN</td>\n",
              "      <td>NaN</td>\n",
              "      <td>NaN</td>\n",
              "      <td>NaN</td>\n",
              "      <td>76.29</td>\n",
              "    </tr>\n",
              "    <tr>\n",
              "      <th>2</th>\n",
              "      <td>ABW</td>\n",
              "      <td>North America</td>\n",
              "      <td>Aruba</td>\n",
              "      <td>2020-03-20</td>\n",
              "      <td>4.0</td>\n",
              "      <td>2.0</td>\n",
              "      <td>0.286</td>\n",
              "      <td>0.0</td>\n",
              "      <td>0.0</td>\n",
              "      <td>0.0</td>\n",
              "      <td>37.465</td>\n",
              "      <td>18.733</td>\n",
              "      <td>2.676</td>\n",
              "      <td>0.0</td>\n",
              "      <td>0.0</td>\n",
              "      <td>0.0</td>\n",
              "      <td>NaN</td>\n",
              "      <td>NaN</td>\n",
              "      <td>NaN</td>\n",
              "      <td>NaN</td>\n",
              "      <td>NaN</td>\n",
              "      <td>NaN</td>\n",
              "      <td>NaN</td>\n",
              "      <td>NaN</td>\n",
              "      <td>NaN</td>\n",
              "      <td>33.33</td>\n",
              "      <td>106766.0</td>\n",
              "      <td>584.8</td>\n",
              "      <td>41.2</td>\n",
              "      <td>13.085</td>\n",
              "      <td>7.452</td>\n",
              "      <td>35973.781</td>\n",
              "      <td>NaN</td>\n",
              "      <td>NaN</td>\n",
              "      <td>11.62</td>\n",
              "      <td>NaN</td>\n",
              "      <td>NaN</td>\n",
              "      <td>NaN</td>\n",
              "      <td>NaN</td>\n",
              "      <td>76.29</td>\n",
              "    </tr>\n",
              "    <tr>\n",
              "      <th>3</th>\n",
              "      <td>ABW</td>\n",
              "      <td>North America</td>\n",
              "      <td>Aruba</td>\n",
              "      <td>2020-03-21</td>\n",
              "      <td>NaN</td>\n",
              "      <td>NaN</td>\n",
              "      <td>0.286</td>\n",
              "      <td>NaN</td>\n",
              "      <td>NaN</td>\n",
              "      <td>0.0</td>\n",
              "      <td>NaN</td>\n",
              "      <td>NaN</td>\n",
              "      <td>2.676</td>\n",
              "      <td>NaN</td>\n",
              "      <td>NaN</td>\n",
              "      <td>0.0</td>\n",
              "      <td>NaN</td>\n",
              "      <td>NaN</td>\n",
              "      <td>NaN</td>\n",
              "      <td>NaN</td>\n",
              "      <td>NaN</td>\n",
              "      <td>NaN</td>\n",
              "      <td>NaN</td>\n",
              "      <td>NaN</td>\n",
              "      <td>NaN</td>\n",
              "      <td>44.44</td>\n",
              "      <td>106766.0</td>\n",
              "      <td>584.8</td>\n",
              "      <td>41.2</td>\n",
              "      <td>13.085</td>\n",
              "      <td>7.452</td>\n",
              "      <td>35973.781</td>\n",
              "      <td>NaN</td>\n",
              "      <td>NaN</td>\n",
              "      <td>11.62</td>\n",
              "      <td>NaN</td>\n",
              "      <td>NaN</td>\n",
              "      <td>NaN</td>\n",
              "      <td>NaN</td>\n",
              "      <td>76.29</td>\n",
              "    </tr>\n",
              "    <tr>\n",
              "      <th>4</th>\n",
              "      <td>ABW</td>\n",
              "      <td>North America</td>\n",
              "      <td>Aruba</td>\n",
              "      <td>2020-03-22</td>\n",
              "      <td>NaN</td>\n",
              "      <td>NaN</td>\n",
              "      <td>0.286</td>\n",
              "      <td>NaN</td>\n",
              "      <td>NaN</td>\n",
              "      <td>0.0</td>\n",
              "      <td>NaN</td>\n",
              "      <td>NaN</td>\n",
              "      <td>2.676</td>\n",
              "      <td>NaN</td>\n",
              "      <td>NaN</td>\n",
              "      <td>0.0</td>\n",
              "      <td>NaN</td>\n",
              "      <td>NaN</td>\n",
              "      <td>NaN</td>\n",
              "      <td>NaN</td>\n",
              "      <td>NaN</td>\n",
              "      <td>NaN</td>\n",
              "      <td>NaN</td>\n",
              "      <td>NaN</td>\n",
              "      <td>NaN</td>\n",
              "      <td>44.44</td>\n",
              "      <td>106766.0</td>\n",
              "      <td>584.8</td>\n",
              "      <td>41.2</td>\n",
              "      <td>13.085</td>\n",
              "      <td>7.452</td>\n",
              "      <td>35973.781</td>\n",
              "      <td>NaN</td>\n",
              "      <td>NaN</td>\n",
              "      <td>11.62</td>\n",
              "      <td>NaN</td>\n",
              "      <td>NaN</td>\n",
              "      <td>NaN</td>\n",
              "      <td>NaN</td>\n",
              "      <td>76.29</td>\n",
              "    </tr>\n",
              "  </tbody>\n",
              "</table>\n",
              "</div>"
            ],
            "text/plain": [
              "  iso_code      continent  ... hospital_beds_per_thousand life_expectancy\n",
              "0      ABW  North America  ...                        NaN           76.29\n",
              "1      ABW  North America  ...                        NaN           76.29\n",
              "2      ABW  North America  ...                        NaN           76.29\n",
              "3      ABW  North America  ...                        NaN           76.29\n",
              "4      ABW  North America  ...                        NaN           76.29\n",
              "\n",
              "[5 rows x 40 columns]"
            ]
          },
          "metadata": {
            "tags": []
          },
          "execution_count": 5
        }
      ]
    },
    {
      "cell_type": "markdown",
      "metadata": {
        "id": "xx5xx1HwToFq",
        "colab_type": "text"
      },
      "source": [
        "#### Tamanho do Dataset\n",
        "\n",
        "Prosseguindo, vamos descobrir quantas entradas e variavéis nosso `dataset` possui é importante sabermos a quantidade de dados que vamos trabalhar.  "
      ]
    },
    {
      "cell_type": "code",
      "metadata": {
        "id": "op7X7PhvpnKo",
        "colab_type": "code",
        "colab": {
          "base_uri": "https://localhost:8080/",
          "height": 51
        },
        "outputId": "49a05d81-ad47-4b42-bf66-3d72f86c9533"
      },
      "source": [
        "# Identificar o volume de dados do Dataframe\n",
        "\n",
        "print(\"Número de Entradas:\\t {}\".format(df.shape[0]))\n",
        "print(\"Número de Variáveis:\\t {}\".format(df.shape[1]))"
      ],
      "execution_count": 6,
      "outputs": [
        {
          "output_type": "stream",
          "text": [
            "Número de Entradas:\t 41592\n",
            "Número de Variáveis:\t 40\n"
          ],
          "name": "stdout"
        }
      ]
    },
    {
      "cell_type": "markdown",
      "metadata": {
        "id": "zzZWDhNsUUae",
        "colab_type": "text"
      },
      "source": [
        "#### Nome das colunas e os tipos de variáveis\n",
        "\n",
        "Agora vamos analisar qual o nome das colunas e os tipos das variáveis de cada uma delas."
      ]
    },
    {
      "cell_type": "code",
      "metadata": {
        "id": "RoQY8d_spyFM",
        "colab_type": "code",
        "colab": {
          "base_uri": "https://localhost:8080/",
          "height": 714
        },
        "outputId": "86864d94-bb5d-4e59-b31f-d7549eeb2c24"
      },
      "source": [
        "# Imprimir os tipos das variáveis das colunas\n",
        "\n",
        "df.dtypes"
      ],
      "execution_count": 7,
      "outputs": [
        {
          "output_type": "execute_result",
          "data": {
            "text/plain": [
              "iso_code                            object\n",
              "continent                           object\n",
              "location                            object\n",
              "date                                object\n",
              "total_cases                        float64\n",
              "new_cases                          float64\n",
              "new_cases_smoothed                 float64\n",
              "total_deaths                       float64\n",
              "new_deaths                         float64\n",
              "new_deaths_smoothed                float64\n",
              "total_cases_per_million            float64\n",
              "new_cases_per_million              float64\n",
              "new_cases_smoothed_per_million     float64\n",
              "total_deaths_per_million           float64\n",
              "new_deaths_per_million             float64\n",
              "new_deaths_smoothed_per_million    float64\n",
              "new_tests                          float64\n",
              "total_tests                        float64\n",
              "total_tests_per_thousand           float64\n",
              "new_tests_per_thousand             float64\n",
              "new_tests_smoothed                 float64\n",
              "new_tests_smoothed_per_thousand    float64\n",
              "tests_per_case                     float64\n",
              "positive_rate                      float64\n",
              "tests_units                         object\n",
              "stringency_index                   float64\n",
              "population                         float64\n",
              "population_density                 float64\n",
              "median_age                         float64\n",
              "aged_65_older                      float64\n",
              "aged_70_older                      float64\n",
              "gdp_per_capita                     float64\n",
              "extreme_poverty                    float64\n",
              "cardiovasc_death_rate              float64\n",
              "diabetes_prevalence                float64\n",
              "female_smokers                     float64\n",
              "male_smokers                       float64\n",
              "handwashing_facilities             float64\n",
              "hospital_beds_per_thousand         float64\n",
              "life_expectancy                    float64\n",
              "dtype: object"
            ]
          },
          "metadata": {
            "tags": []
          },
          "execution_count": 7
        }
      ]
    },
    {
      "cell_type": "markdown",
      "metadata": {
        "id": "2TLdR8y7U4UL",
        "colab_type": "text"
      },
      "source": [
        "#### Valores ausentes\n",
        "\n",
        "Precisamos saber logo no ínicio se há valores ausentes em nosso `Dataset` e se esse valores vão impactar no desenvolvilmento deste projeto. "
      ]
    },
    {
      "cell_type": "code",
      "metadata": {
        "id": "XLXslhQyd5SD",
        "colab_type": "code",
        "colab": {
          "base_uri": "https://localhost:8080/",
          "height": 880
        },
        "outputId": "baa72599-1079-4622-d4dc-03ab6494c8cb"
      },
      "source": [
        "# Calculo da soma de valores ausentes\n",
        "calc = (df.isnull().sum() / df.shape[0]).sort_values(ascending=False)\n",
        "\n",
        "# Transformando a soma em porcentagem\n",
        "porc = pd.DataFrame(calc)\n",
        "porc.style.format(\"{:.2%}\")"
      ],
      "execution_count": 8,
      "outputs": [
        {
          "output_type": "execute_result",
          "data": {
            "text/html": [
              "<style  type=\"text/css\" >\n",
              "</style><table id=\"T_00ec952e_eeab_11ea_ad5c_0242ac1c0002\" ><thead>    <tr>        <th class=\"blank level0\" ></th>        <th class=\"col_heading level0 col0\" >0</th>    </tr></thead><tbody>\n",
              "                <tr>\n",
              "                        <th id=\"T_00ec952e_eeab_11ea_ad5c_0242ac1c0002level0_row0\" class=\"row_heading level0 row0\" >new_tests_per_thousand</th>\n",
              "                        <td id=\"T_00ec952e_eeab_11ea_ad5c_0242ac1c0002row0_col0\" class=\"data row0 col0\" >67.73%</td>\n",
              "            </tr>\n",
              "            <tr>\n",
              "                        <th id=\"T_00ec952e_eeab_11ea_ad5c_0242ac1c0002level0_row1\" class=\"row_heading level0 row1\" >new_tests</th>\n",
              "                        <td id=\"T_00ec952e_eeab_11ea_ad5c_0242ac1c0002row1_col0\" class=\"data row1 col0\" >67.73%</td>\n",
              "            </tr>\n",
              "            <tr>\n",
              "                        <th id=\"T_00ec952e_eeab_11ea_ad5c_0242ac1c0002level0_row2\" class=\"row_heading level0 row2\" >total_tests</th>\n",
              "                        <td id=\"T_00ec952e_eeab_11ea_ad5c_0242ac1c0002row2_col0\" class=\"data row2 col0\" >66.93%</td>\n",
              "            </tr>\n",
              "            <tr>\n",
              "                        <th id=\"T_00ec952e_eeab_11ea_ad5c_0242ac1c0002level0_row3\" class=\"row_heading level0 row3\" >total_tests_per_thousand</th>\n",
              "                        <td id=\"T_00ec952e_eeab_11ea_ad5c_0242ac1c0002row3_col0\" class=\"data row3 col0\" >66.93%</td>\n",
              "            </tr>\n",
              "            <tr>\n",
              "                        <th id=\"T_00ec952e_eeab_11ea_ad5c_0242ac1c0002level0_row4\" class=\"row_heading level0 row4\" >tests_per_case</th>\n",
              "                        <td id=\"T_00ec952e_eeab_11ea_ad5c_0242ac1c0002row4_col0\" class=\"data row4 col0\" >66.40%</td>\n",
              "            </tr>\n",
              "            <tr>\n",
              "                        <th id=\"T_00ec952e_eeab_11ea_ad5c_0242ac1c0002level0_row5\" class=\"row_heading level0 row5\" >positive_rate</th>\n",
              "                        <td id=\"T_00ec952e_eeab_11ea_ad5c_0242ac1c0002row5_col0\" class=\"data row5 col0\" >65.52%</td>\n",
              "            </tr>\n",
              "            <tr>\n",
              "                        <th id=\"T_00ec952e_eeab_11ea_ad5c_0242ac1c0002level0_row6\" class=\"row_heading level0 row6\" >new_tests_smoothed</th>\n",
              "                        <td id=\"T_00ec952e_eeab_11ea_ad5c_0242ac1c0002row6_col0\" class=\"data row6 col0\" >63.67%</td>\n",
              "            </tr>\n",
              "            <tr>\n",
              "                        <th id=\"T_00ec952e_eeab_11ea_ad5c_0242ac1c0002level0_row7\" class=\"row_heading level0 row7\" >new_tests_smoothed_per_thousand</th>\n",
              "                        <td id=\"T_00ec952e_eeab_11ea_ad5c_0242ac1c0002row7_col0\" class=\"data row7 col0\" >63.67%</td>\n",
              "            </tr>\n",
              "            <tr>\n",
              "                        <th id=\"T_00ec952e_eeab_11ea_ad5c_0242ac1c0002level0_row8\" class=\"row_heading level0 row8\" >tests_units</th>\n",
              "                        <td id=\"T_00ec952e_eeab_11ea_ad5c_0242ac1c0002row8_col0\" class=\"data row8 col0\" >61.85%</td>\n",
              "            </tr>\n",
              "            <tr>\n",
              "                        <th id=\"T_00ec952e_eeab_11ea_ad5c_0242ac1c0002level0_row9\" class=\"row_heading level0 row9\" >handwashing_facilities</th>\n",
              "                        <td id=\"T_00ec952e_eeab_11ea_ad5c_0242ac1c0002row9_col0\" class=\"data row9 col0\" >58.47%</td>\n",
              "            </tr>\n",
              "            <tr>\n",
              "                        <th id=\"T_00ec952e_eeab_11ea_ad5c_0242ac1c0002level0_row10\" class=\"row_heading level0 row10\" >extreme_poverty</th>\n",
              "                        <td id=\"T_00ec952e_eeab_11ea_ad5c_0242ac1c0002row10_col0\" class=\"data row10 col0\" >41.13%</td>\n",
              "            </tr>\n",
              "            <tr>\n",
              "                        <th id=\"T_00ec952e_eeab_11ea_ad5c_0242ac1c0002level0_row11\" class=\"row_heading level0 row11\" >male_smokers</th>\n",
              "                        <td id=\"T_00ec952e_eeab_11ea_ad5c_0242ac1c0002row11_col0\" class=\"data row11 col0\" >30.59%</td>\n",
              "            </tr>\n",
              "            <tr>\n",
              "                        <th id=\"T_00ec952e_eeab_11ea_ad5c_0242ac1c0002level0_row12\" class=\"row_heading level0 row12\" >female_smokers</th>\n",
              "                        <td id=\"T_00ec952e_eeab_11ea_ad5c_0242ac1c0002row12_col0\" class=\"data row12 col0\" >29.71%</td>\n",
              "            </tr>\n",
              "            <tr>\n",
              "                        <th id=\"T_00ec952e_eeab_11ea_ad5c_0242ac1c0002level0_row13\" class=\"row_heading level0 row13\" >hospital_beds_per_thousand</th>\n",
              "                        <td id=\"T_00ec952e_eeab_11ea_ad5c_0242ac1c0002row13_col0\" class=\"data row13 col0\" >19.13%</td>\n",
              "            </tr>\n",
              "            <tr>\n",
              "                        <th id=\"T_00ec952e_eeab_11ea_ad5c_0242ac1c0002level0_row14\" class=\"row_heading level0 row14\" >stringency_index</th>\n",
              "                        <td id=\"T_00ec952e_eeab_11ea_ad5c_0242ac1c0002row14_col0\" class=\"data row14 col0\" >16.70%</td>\n",
              "            </tr>\n",
              "            <tr>\n",
              "                        <th id=\"T_00ec952e_eeab_11ea_ad5c_0242ac1c0002level0_row15\" class=\"row_heading level0 row15\" >aged_65_older</th>\n",
              "                        <td id=\"T_00ec952e_eeab_11ea_ad5c_0242ac1c0002row15_col0\" class=\"data row15 col0\" >12.03%</td>\n",
              "            </tr>\n",
              "            <tr>\n",
              "                        <th id=\"T_00ec952e_eeab_11ea_ad5c_0242ac1c0002level0_row16\" class=\"row_heading level0 row16\" >gdp_per_capita</th>\n",
              "                        <td id=\"T_00ec952e_eeab_11ea_ad5c_0242ac1c0002row16_col0\" class=\"data row16 col0\" >11.84%</td>\n",
              "            </tr>\n",
              "            <tr>\n",
              "                        <th id=\"T_00ec952e_eeab_11ea_ad5c_0242ac1c0002level0_row17\" class=\"row_heading level0 row17\" >aged_70_older</th>\n",
              "                        <td id=\"T_00ec952e_eeab_11ea_ad5c_0242ac1c0002row17_col0\" class=\"data row17 col0\" >11.18%</td>\n",
              "            </tr>\n",
              "            <tr>\n",
              "                        <th id=\"T_00ec952e_eeab_11ea_ad5c_0242ac1c0002level0_row18\" class=\"row_heading level0 row18\" >median_age</th>\n",
              "                        <td id=\"T_00ec952e_eeab_11ea_ad5c_0242ac1c0002row18_col0\" class=\"data row18 col0\" >10.72%</td>\n",
              "            </tr>\n",
              "            <tr>\n",
              "                        <th id=\"T_00ec952e_eeab_11ea_ad5c_0242ac1c0002level0_row19\" class=\"row_heading level0 row19\" >cardiovasc_death_rate</th>\n",
              "                        <td id=\"T_00ec952e_eeab_11ea_ad5c_0242ac1c0002row19_col0\" class=\"data row19 col0\" >10.69%</td>\n",
              "            </tr>\n",
              "            <tr>\n",
              "                        <th id=\"T_00ec952e_eeab_11ea_ad5c_0242ac1c0002level0_row20\" class=\"row_heading level0 row20\" >diabetes_prevalence</th>\n",
              "                        <td id=\"T_00ec952e_eeab_11ea_ad5c_0242ac1c0002row20_col0\" class=\"data row20 col0\" >7.57%</td>\n",
              "            </tr>\n",
              "            <tr>\n",
              "                        <th id=\"T_00ec952e_eeab_11ea_ad5c_0242ac1c0002level0_row21\" class=\"row_heading level0 row21\" >population_density</th>\n",
              "                        <td id=\"T_00ec952e_eeab_11ea_ad5c_0242ac1c0002row21_col0\" class=\"data row21 col0\" >5.06%</td>\n",
              "            </tr>\n",
              "            <tr>\n",
              "                        <th id=\"T_00ec952e_eeab_11ea_ad5c_0242ac1c0002level0_row22\" class=\"row_heading level0 row22\" >new_deaths_smoothed_per_million</th>\n",
              "                        <td id=\"T_00ec952e_eeab_11ea_ad5c_0242ac1c0002row22_col0\" class=\"data row22 col0\" >3.86%</td>\n",
              "            </tr>\n",
              "            <tr>\n",
              "                        <th id=\"T_00ec952e_eeab_11ea_ad5c_0242ac1c0002level0_row23\" class=\"row_heading level0 row23\" >new_cases_smoothed_per_million</th>\n",
              "                        <td id=\"T_00ec952e_eeab_11ea_ad5c_0242ac1c0002row23_col0\" class=\"data row23 col0\" >3.86%</td>\n",
              "            </tr>\n",
              "            <tr>\n",
              "                        <th id=\"T_00ec952e_eeab_11ea_ad5c_0242ac1c0002level0_row24\" class=\"row_heading level0 row24\" >new_deaths_smoothed</th>\n",
              "                        <td id=\"T_00ec952e_eeab_11ea_ad5c_0242ac1c0002row24_col0\" class=\"data row24 col0\" >3.71%</td>\n",
              "            </tr>\n",
              "            <tr>\n",
              "                        <th id=\"T_00ec952e_eeab_11ea_ad5c_0242ac1c0002level0_row25\" class=\"row_heading level0 row25\" >new_cases_smoothed</th>\n",
              "                        <td id=\"T_00ec952e_eeab_11ea_ad5c_0242ac1c0002row25_col0\" class=\"data row25 col0\" >3.71%</td>\n",
              "            </tr>\n",
              "            <tr>\n",
              "                        <th id=\"T_00ec952e_eeab_11ea_ad5c_0242ac1c0002level0_row26\" class=\"row_heading level0 row26\" >new_deaths_per_million</th>\n",
              "                        <td id=\"T_00ec952e_eeab_11ea_ad5c_0242ac1c0002row26_col0\" class=\"data row26 col0\" >1.98%</td>\n",
              "            </tr>\n",
              "            <tr>\n",
              "                        <th id=\"T_00ec952e_eeab_11ea_ad5c_0242ac1c0002level0_row27\" class=\"row_heading level0 row27\" >total_deaths_per_million</th>\n",
              "                        <td id=\"T_00ec952e_eeab_11ea_ad5c_0242ac1c0002row27_col0\" class=\"data row27 col0\" >1.98%</td>\n",
              "            </tr>\n",
              "            <tr>\n",
              "                        <th id=\"T_00ec952e_eeab_11ea_ad5c_0242ac1c0002level0_row28\" class=\"row_heading level0 row28\" >new_cases_per_million</th>\n",
              "                        <td id=\"T_00ec952e_eeab_11ea_ad5c_0242ac1c0002row28_col0\" class=\"data row28 col0\" >1.98%</td>\n",
              "            </tr>\n",
              "            <tr>\n",
              "                        <th id=\"T_00ec952e_eeab_11ea_ad5c_0242ac1c0002level0_row29\" class=\"row_heading level0 row29\" >total_cases_per_million</th>\n",
              "                        <td id=\"T_00ec952e_eeab_11ea_ad5c_0242ac1c0002row29_col0\" class=\"data row29 col0\" >1.98%</td>\n",
              "            </tr>\n",
              "            <tr>\n",
              "                        <th id=\"T_00ec952e_eeab_11ea_ad5c_0242ac1c0002level0_row30\" class=\"row_heading level0 row30\" >life_expectancy</th>\n",
              "                        <td id=\"T_00ec952e_eeab_11ea_ad5c_0242ac1c0002row30_col0\" class=\"data row30 col0\" >1.83%</td>\n",
              "            </tr>\n",
              "            <tr>\n",
              "                        <th id=\"T_00ec952e_eeab_11ea_ad5c_0242ac1c0002level0_row31\" class=\"row_heading level0 row31\" >new_deaths</th>\n",
              "                        <td id=\"T_00ec952e_eeab_11ea_ad5c_0242ac1c0002row31_col0\" class=\"data row31 col0\" >1.83%</td>\n",
              "            </tr>\n",
              "            <tr>\n",
              "                        <th id=\"T_00ec952e_eeab_11ea_ad5c_0242ac1c0002level0_row32\" class=\"row_heading level0 row32\" >new_cases</th>\n",
              "                        <td id=\"T_00ec952e_eeab_11ea_ad5c_0242ac1c0002row32_col0\" class=\"data row32 col0\" >1.83%</td>\n",
              "            </tr>\n",
              "            <tr>\n",
              "                        <th id=\"T_00ec952e_eeab_11ea_ad5c_0242ac1c0002level0_row33\" class=\"row_heading level0 row33\" >total_deaths</th>\n",
              "                        <td id=\"T_00ec952e_eeab_11ea_ad5c_0242ac1c0002row33_col0\" class=\"data row33 col0\" >1.38%</td>\n",
              "            </tr>\n",
              "            <tr>\n",
              "                        <th id=\"T_00ec952e_eeab_11ea_ad5c_0242ac1c0002level0_row34\" class=\"row_heading level0 row34\" >total_cases</th>\n",
              "                        <td id=\"T_00ec952e_eeab_11ea_ad5c_0242ac1c0002row34_col0\" class=\"data row34 col0\" >1.38%</td>\n",
              "            </tr>\n",
              "            <tr>\n",
              "                        <th id=\"T_00ec952e_eeab_11ea_ad5c_0242ac1c0002level0_row35\" class=\"row_heading level0 row35\" >continent</th>\n",
              "                        <td id=\"T_00ec952e_eeab_11ea_ad5c_0242ac1c0002row35_col0\" class=\"data row35 col0\" >1.20%</td>\n",
              "            </tr>\n",
              "            <tr>\n",
              "                        <th id=\"T_00ec952e_eeab_11ea_ad5c_0242ac1c0002level0_row36\" class=\"row_heading level0 row36\" >population</th>\n",
              "                        <td id=\"T_00ec952e_eeab_11ea_ad5c_0242ac1c0002row36_col0\" class=\"data row36 col0\" >0.60%</td>\n",
              "            </tr>\n",
              "            <tr>\n",
              "                        <th id=\"T_00ec952e_eeab_11ea_ad5c_0242ac1c0002level0_row37\" class=\"row_heading level0 row37\" >iso_code</th>\n",
              "                        <td id=\"T_00ec952e_eeab_11ea_ad5c_0242ac1c0002row37_col0\" class=\"data row37 col0\" >0.60%</td>\n",
              "            </tr>\n",
              "            <tr>\n",
              "                        <th id=\"T_00ec952e_eeab_11ea_ad5c_0242ac1c0002level0_row38\" class=\"row_heading level0 row38\" >date</th>\n",
              "                        <td id=\"T_00ec952e_eeab_11ea_ad5c_0242ac1c0002row38_col0\" class=\"data row38 col0\" >0.00%</td>\n",
              "            </tr>\n",
              "            <tr>\n",
              "                        <th id=\"T_00ec952e_eeab_11ea_ad5c_0242ac1c0002level0_row39\" class=\"row_heading level0 row39\" >location</th>\n",
              "                        <td id=\"T_00ec952e_eeab_11ea_ad5c_0242ac1c0002row39_col0\" class=\"data row39 col0\" >0.00%</td>\n",
              "            </tr>\n",
              "    </tbody></table>"
            ],
            "text/plain": [
              "<pandas.io.formats.style.Styler at 0x7f18ecf57e48>"
            ]
          },
          "metadata": {
            "tags": []
          },
          "execution_count": 8
        }
      ]
    },
    {
      "cell_type": "markdown",
      "metadata": {
        "id": "Cxg4IQesVxcV",
        "colab_type": "text"
      },
      "source": [
        "Com os dados acima, podemos ver que há bastante valores ausentes no que se refere a dados de testes da COVID-19. "
      ]
    },
    {
      "cell_type": "markdown",
      "metadata": {
        "id": "PlXK8wSpWPf_",
        "colab_type": "text"
      },
      "source": [
        "#### Transformando o formato da coluna `date`\n",
        "\n",
        "Vamos transformar a coluna `date` em formato `datetime` para trabalharmos melhor com os dados de data de observação."
      ]
    },
    {
      "cell_type": "code",
      "metadata": {
        "id": "1ExcEhqcGh42",
        "colab_type": "code",
        "colab": {}
      },
      "source": [
        "# Transformando a coluna date no formato datetime\n",
        "\n",
        "df.date = pd.to_datetime(df.date)\n"
      ],
      "execution_count": 9,
      "outputs": []
    },
    {
      "cell_type": "markdown",
      "metadata": {
        "id": "GDxaBzY5XFvq",
        "colab_type": "text"
      },
      "source": [
        "####  Países com mais casos confirmados de COVID-19\n",
        "\n",
        "Visualizaremos agora os 5 países com mais casos confirmados e plotaremos um gráfico com os dados para visualização. "
      ]
    },
    {
      "cell_type": "code",
      "metadata": {
        "id": "0UOSvUAmYLxn",
        "colab_type": "code",
        "colab": {
          "base_uri": "https://localhost:8080/",
          "height": 204
        },
        "outputId": "cb7ed64b-a52e-4ad0-8f88-a230c528e389"
      },
      "source": [
        "df[['iso_code','total_cases']].loc[df.date == '2020-09-04'].sort_values(by=\"total_cases\", ascending=False)[1:6]"
      ],
      "execution_count": 50,
      "outputs": [
        {
          "output_type": "execute_result",
          "data": {
            "text/html": [
              "<div>\n",
              "<style scoped>\n",
              "    .dataframe tbody tr th:only-of-type {\n",
              "        vertical-align: middle;\n",
              "    }\n",
              "\n",
              "    .dataframe tbody tr th {\n",
              "        vertical-align: top;\n",
              "    }\n",
              "\n",
              "    .dataframe thead th {\n",
              "        text-align: right;\n",
              "    }\n",
              "</style>\n",
              "<table border=\"1\" class=\"dataframe\">\n",
              "  <thead>\n",
              "    <tr style=\"text-align: right;\">\n",
              "      <th></th>\n",
              "      <th>iso_code</th>\n",
              "      <th>total_cases</th>\n",
              "    </tr>\n",
              "  </thead>\n",
              "  <tbody>\n",
              "    <tr>\n",
              "      <th>38950</th>\n",
              "      <td>USA</td>\n",
              "      <td>6150655.0</td>\n",
              "    </tr>\n",
              "    <tr>\n",
              "      <th>5611</th>\n",
              "      <td>BRA</td>\n",
              "      <td>4041638.0</td>\n",
              "    </tr>\n",
              "    <tr>\n",
              "      <th>17986</th>\n",
              "      <td>IND</td>\n",
              "      <td>3936747.0</td>\n",
              "    </tr>\n",
              "    <tr>\n",
              "      <th>32480</th>\n",
              "      <td>RUS</td>\n",
              "      <td>1009995.0</td>\n",
              "    </tr>\n",
              "    <tr>\n",
              "      <th>30250</th>\n",
              "      <td>PER</td>\n",
              "      <td>670145.0</td>\n",
              "    </tr>\n",
              "  </tbody>\n",
              "</table>\n",
              "</div>"
            ],
            "text/plain": [
              "      iso_code  total_cases\n",
              "38950      USA    6150655.0\n",
              "5611       BRA    4041638.0\n",
              "17986      IND    3936747.0\n",
              "32480      RUS    1009995.0\n",
              "30250      PER     670145.0"
            ]
          },
          "metadata": {
            "tags": []
          },
          "execution_count": 50
        }
      ]
    },
    {
      "cell_type": "code",
      "metadata": {
        "id": "rsXvZEJGlN2W",
        "colab_type": "code",
        "colab": {
          "base_uri": "https://localhost:8080/",
          "height": 503
        },
        "outputId": "8782c422-73e5-4cd0-9e58-d28a63d1629d"
      },
      "source": [
        "# Grafico de barras para total de casos\n",
        "top5_total_cases = df.loc[df.date == '2020-09-04',['location','total_cases']].sort_values(by=\"total_cases\",ascending=False)[1:6]\n",
        "\n",
        "fig,ax = plt.subplots(figsize=(15,8))\n",
        "\n",
        "rects = ax.bar('location','total_cases', \n",
        "                data=top5_total_cases,\n",
        "                color=sns.light_palette('#00b3b3', reverse=True))\n",
        "\n",
        "\n",
        "for rect in rects:\n",
        "    height = rect.get_height()\n",
        "    ax.annotate(\n",
        "        f'{int(height)}',\n",
        "        xy=(rect.get_x() + rect.get_width()/2,  height),\n",
        "        xytext=(0, 3),\n",
        "        textcoords=\"offset points\",\n",
        "        ha='center',\n",
        "        va='bottom',\n",
        "        fontsize=11,\n",
        "        color=\"black\",\n",
        "        )\n",
        "\n",
        "plt.tick_params(\n",
        "    axis='both',         \n",
        "    which='both',     \n",
        "    bottom=False,      \n",
        "    top=False,         \n",
        "    labelbottom=True) \n",
        "\n",
        "plt.title('Top 5 Casos Confirmados',\n",
        "         fontsize=18,\n",
        "         color='grey'\n",
        "         )\n",
        " \n",
        "sns.set_style('whitegrid')\n",
        "sns.despine(left=True)\n",
        "plt.gca().axes.get_yaxis().set_visible(False)\n",
        "plt.grid(False)\n",
        "plt.show()"
      ],
      "execution_count": 51,
      "outputs": [
        {
          "output_type": "display_data",
          "data": {
            "image/png": "[encoded data removed]",
            "text/plain": [
              "<Figure size 1080x576 with 1 Axes>"
            ]
          },
          "metadata": {
            "tags": []
          }
        }
      ]
    },
    {
      "cell_type": "markdown",
      "metadata": {
        "id": "JoGvitEHXn9H",
        "colab_type": "text"
      },
      "source": [
        "#### Países com mais mortes por COVID-*19*\n",
        "\n",
        "Agora os 5 países com maior número de Mortes causado pela Covid-19. Em seguida o gráfico para visulização."
      ]
    },
    {
      "cell_type": "code",
      "metadata": {
        "id": "IzY1caGiYMF4",
        "colab_type": "code",
        "colab": {
          "base_uri": "https://localhost:8080/",
          "height": 204
        },
        "outputId": "5121d420-3534-4283-dd47-ab0fcd4550e1"
      },
      "source": [
        "df[['iso_code','total_deaths']].loc[df.date == '2020-09-04'].sort_values(by=\"total_deaths\", ascending=False)[1:6]"
      ],
      "execution_count": 47,
      "outputs": [
        {
          "output_type": "execute_result",
          "data": {
            "text/html": [
              "<div>\n",
              "<style scoped>\n",
              "    .dataframe tbody tr th:only-of-type {\n",
              "        vertical-align: middle;\n",
              "    }\n",
              "\n",
              "    .dataframe tbody tr th {\n",
              "        vertical-align: top;\n",
              "    }\n",
              "\n",
              "    .dataframe thead th {\n",
              "        text-align: right;\n",
              "    }\n",
              "</style>\n",
              "<table border=\"1\" class=\"dataframe\">\n",
              "  <thead>\n",
              "    <tr style=\"text-align: right;\">\n",
              "      <th></th>\n",
              "      <th>iso_code</th>\n",
              "      <th>total_deaths</th>\n",
              "    </tr>\n",
              "  </thead>\n",
              "  <tbody>\n",
              "    <tr>\n",
              "      <th>38950</th>\n",
              "      <td>USA</td>\n",
              "      <td>186797.0</td>\n",
              "    </tr>\n",
              "    <tr>\n",
              "      <th>5611</th>\n",
              "      <td>BRA</td>\n",
              "      <td>124614.0</td>\n",
              "    </tr>\n",
              "    <tr>\n",
              "      <th>17986</th>\n",
              "      <td>IND</td>\n",
              "      <td>68472.0</td>\n",
              "    </tr>\n",
              "    <tr>\n",
              "      <th>25081</th>\n",
              "      <td>MEX</td>\n",
              "      <td>66329.0</td>\n",
              "    </tr>\n",
              "    <tr>\n",
              "      <th>13979</th>\n",
              "      <td>GBR</td>\n",
              "      <td>41527.0</td>\n",
              "    </tr>\n",
              "  </tbody>\n",
              "</table>\n",
              "</div>"
            ],
            "text/plain": [
              "      iso_code  total_deaths\n",
              "38950      USA      186797.0\n",
              "5611       BRA      124614.0\n",
              "17986      IND       68472.0\n",
              "25081      MEX       66329.0\n",
              "13979      GBR       41527.0"
            ]
          },
          "metadata": {
            "tags": []
          },
          "execution_count": 47
        }
      ]
    },
    {
      "cell_type": "code",
      "metadata": {
        "id": "DEqSA-eaHwRJ",
        "colab_type": "code",
        "colab": {
          "base_uri": "https://localhost:8080/",
          "height": 503
        },
        "outputId": "c5a0f234-8223-4ea7-de8a-3fb8006632b1"
      },
      "source": [
        "# Grafico de barras para total de mortes\n",
        "\n",
        "top5_total_deaths = df.loc[df.date == '2020-09-04',\n",
        "                           ['location','total_deaths']].sort_values(by=\"total_deaths\",ascending=False)[1:6]\n",
        "\n",
        "\n",
        "fig,ax = plt.subplots(figsize=(15,8))\n",
        "\n",
        "rects = ax.bar('location','total_deaths', \n",
        "                data=top5_total_deaths,\n",
        "                color=sns.light_palette('#B30000', reverse=True))\n",
        "\n",
        "\n",
        "for rect in rects:\n",
        "    height = rect.get_height()\n",
        "    ax.annotate(\n",
        "        f'{int(height)}',\n",
        "        xy=(rect.get_x() + rect.get_width()/2,  height),\n",
        "        xytext=(0, 3),  # offset\n",
        "        textcoords=\"offset points\",\n",
        "        ha='center',\n",
        "        va='bottom',\n",
        "        fontsize=11,\n",
        "        color=\"black\",\n",
        "        )\n",
        "\n",
        "plt.tick_params(\n",
        "    axis='both',         \n",
        "    which='both',     \n",
        "    bottom=False,      \n",
        "    top=False,         \n",
        "    labelbottom=True) \n",
        "    \n",
        "plt.title('Top 5 Número de Mortes ',\n",
        "         fontsize=18,\n",
        "         )\n",
        "\n",
        "plt.gca().axes.get_yaxis().set_visible(False)\n",
        "sns.set_style('whitegrid')\n",
        "sns.despine(left=True)\n",
        "plt.grid(False)\n",
        "plt.show()\n",
        "\n"
      ],
      "execution_count": 49,
      "outputs": [
        {
          "output_type": "display_data",
          "data": {
            "image/png": "[encoded data removed]",
            "text/plain": [
              "<Figure size 1080x576 with 1 Axes>"
            ]
          },
          "metadata": {
            "tags": []
          }
        }
      ]
    },
    {
      "cell_type": "markdown",
      "metadata": {
        "id": "UwpnSIq7q2y_",
        "colab_type": "text"
      },
      "source": [
        "#### Evolução de Casos X Mortes\n",
        "\n",
        "Vimos acima os países com o maior número de casos e mortes causado pela Covid-19, vamos visualizar agora em um gráfico de linhas como está a evolução desses números em todo o Mundo."
      ]
    },
    {
      "cell_type": "code",
      "metadata": {
        "id": "ccaE0ua9lj6v",
        "colab_type": "code",
        "colab": {
          "base_uri": "https://localhost:8080/",
          "height": 501
        },
        "outputId": "82f67fe1-7232-4cf5-a32d-42433a6ed3b0"
      },
      "source": [
        "# Grafico de barras para total de mortes\n",
        "\n",
        "ev_cases = df.loc[df.location == \"World\", \"total_cases\"].reset_index(drop=True)\n",
        "\n",
        "fig, ax = plt.subplots(figsize=(12, 8))\n",
        "\n",
        "ax.plot(ev_cases, color='#00b3b3',marker='o',markevery=[-1])\n",
        "ax.text(x = ev_cases.index.max() + 3, y = ev_cases.values.max(), s = \"26.335.685 de Casos\", fontsize = 12)\n",
        "ax.tick_params(\n",
        "    axis='both',         \n",
        "    which='both',     \n",
        "    bottom=False,      \n",
        "    top=False,         \n",
        "    labelbottom=True) \n",
        "\n",
        "\n",
        "ev_deaths = df.loc[df.location == \"World\", \"total_deaths\"].reset_index(drop=True)\n",
        "ax.plot(ev_deaths, color='#cc0000',marker='o',markevery=[-1])\n",
        "ax.text(x = ev_deaths.index.max() + 3, y = ev_deaths.values.max(), s = \"869.209 de Mortes\", fontsize = 12)\n",
        "ax.tick_params(\n",
        "    axis='both',         \n",
        "    which='both',     \n",
        "    bottom=False,      \n",
        "    top=False,         \n",
        "    labelbottom=True) \n",
        "\n",
        "\n",
        "plt.title('Evolução Casos X Mortes',\n",
        "         fontsize=16,\n",
        "         )\n",
        "\n",
        "\n",
        "sns.set_style('whitegrid')\n",
        "sns.despine(left=True)\n",
        "plt.gca().axes.get_yaxis().set_visible(False)\n",
        "plt.grid(False)\n",
        "plt.show()\n"
      ],
      "execution_count": 55,
      "outputs": [
        {
          "output_type": "display_data",
          "data": {
            "image/png": "[encoded data removed]",
            "text/plain": [
              "<Figure size 864x576 with 1 Axes>"
            ]
          },
          "metadata": {
            "tags": []
          }
        }
      ]
    },
    {
      "cell_type": "markdown",
      "metadata": {
        "id": "7c2G5l_eWQOJ",
        "colab_type": "text"
      },
      "source": [
        "A uma enorme crescente em número de casos, e também podemos observar o quão rápido foi a transmissão do Vírus. O número de mortes é menos e evoluí de uma maneira mais lenta, porém já são quase **1 milhão** de vidas perdidas durante a pandemia. "
      ]
    },
    {
      "cell_type": "markdown",
      "metadata": {
        "id": "uCud0QtXpo2v",
        "colab_type": "text"
      },
      "source": [
        "#### Taxa de Mortalidade\n",
        "\n",
        "Com base nos números observados, podemos calcular a taxa de mortalidade do COVID-19."
      ]
    },
    {
      "cell_type": "code",
      "metadata": {
        "id": "Sclou_n0jxn1",
        "colab_type": "code",
        "colab": {
          "base_uri": "https://localhost:8080/",
          "height": 159
        },
        "outputId": "b8bb41bd-2b36-4b0f-eb07-bd22b405d646"
      },
      "source": [
        "# Calculo da taxa de mortalidade\n",
        "\n",
        "mortality_rate = (ev_deaths.max() / ev_cases.max())\n",
        "print('A taxa de mortalidade do Covid-19 é de {:.2%}'.format(mortality_rate)) \n",
        "\n",
        "# Gratico de waffle\n",
        "fig = plt.figure(\n",
        "                FigureClass=Waffle,\n",
        "                rows=5,\n",
        "                columns=15,\n",
        "                values={\"Casos Confirmados\" :ev_cases.max(), \"Mortes\" : ev_deaths.max()},\n",
        "                colors=('grey','black'),\n",
        "                icons=('cross'),icon_size=15,\n",
        "                legend={'loc': 'upper left', 'bbox_to_anchor': (1,1)},\n",
        "                icon_legend=True\n",
        "                )\n",
        "fig.set_tight_layout(False)\n",
        "fig.patch.set_alpha(0.)\n",
        "\n",
        "plt.show();"
      ],
      "execution_count": 15,
      "outputs": [
        {
          "output_type": "stream",
          "text": [
            "A taxa de mortalidade do Covid-19 é de 3.30%\n"
          ],
          "name": "stdout"
        },
        {
          "output_type": "display_data",
          "data": {
            "image/png": "[encoded data removed]",
            "text/plain": [
              "<Waffle size 432x288 with 1 Axes>"
            ]
          },
          "metadata": {
            "tags": [],
            "needs_background": "light"
          }
        }
      ]
    },
    {
      "cell_type": "markdown",
      "metadata": {
        "id": "dDS6hcPdYFUh",
        "colab_type": "text"
      },
      "source": [
        "A cada 100 pessoas infectadas, em média 3 são por mortas pelo novo Coronavírus. "
      ]
    },
    {
      "cell_type": "markdown",
      "metadata": {
        "id": "PqJDLMMAwJkd",
        "colab_type": "text"
      },
      "source": [
        "## Analise Exploratória para o Brasil\n",
        "\n",
        "Agora vamos realizar uma análise exploratória para o nosso país, para isso vamos copiar um `dataframe` apenas para o Brasil. "
      ]
    },
    {
      "cell_type": "code",
      "metadata": {
        "id": "kbdEoKlqwNeN",
        "colab_type": "code",
        "colab": {}
      },
      "source": [
        "# Criando um dataframe para o Brasil\n",
        "\n",
        "df_brazil = df.loc[df.location == \"Brazil\"].copy()"
      ],
      "execution_count": 16,
      "outputs": []
    },
    {
      "cell_type": "markdown",
      "metadata": {
        "id": "hD0ln0EZaMMh",
        "colab_type": "text"
      },
      "source": [
        "#### Registro do primeiro Caso e Morte\n",
        "\n",
        "Vamos buscar o registro do primeiro caso e da primeira morte, e analisar o *intervalo* de tempo de um dado a outro. \n",
        "\n"
      ]
    },
    {
      "cell_type": "code",
      "metadata": {
        "id": "C5yVtut5wkzn",
        "colab_type": "code",
        "colab": {
          "base_uri": "https://localhost:8080/",
          "height": 34
        },
        "outputId": "4c65b76d-49d8-4906-a1a0-4db5a18ebf57"
      },
      "source": [
        "# Buscando a data do primeiro caso\n",
        "\n",
        "df_brazil.date.loc[df_brazil['total_cases'] == 1].head(1)\n",
        "print('O primeiro caso foi registrado em {}'.format(df_brazil.date.loc[5366]))"
      ],
      "execution_count": 17,
      "outputs": [
        {
          "output_type": "stream",
          "text": [
            "O primeiro caso foi registrado em 2020-01-03 00:00:00\n"
          ],
          "name": "stdout"
        }
      ]
    },
    {
      "cell_type": "code",
      "metadata": {
        "id": "Cs0LCl4twnCz",
        "colab_type": "code",
        "colab": {
          "base_uri": "https://localhost:8080/",
          "height": 34
        },
        "outputId": "b5782c2b-1efd-44c3-a812-0a30b0760966"
      },
      "source": [
        "# Buscando a data da primeira morte\n",
        "\n",
        "df_brazil.date.loc[df_brazil['total_deaths'] == 1].head(1)\n",
        "print('A primeira morte foi registrada em {}'.format(df_brazil.date.loc[5387]))"
      ],
      "execution_count": 18,
      "outputs": [
        {
          "output_type": "stream",
          "text": [
            "A primeira morte foi registrada em 2020-01-24 00:00:00\n"
          ],
          "name": "stdout"
        }
      ]
    },
    {
      "cell_type": "code",
      "metadata": {
        "id": "WSrTBZ8ODNQb",
        "colab_type": "code",
        "colab": {
          "base_uri": "https://localhost:8080/",
          "height": 34
        },
        "outputId": "7736869e-2000-4100-b8e3-bbc712d87f49"
      },
      "source": [
        "# Intervalo de tempo do primeiro caso e primeira morte\n",
        "\n",
        "from datetime import date\n",
        "delta = df_brazil.date.loc[5387] - df_brazil.date.loc[5366]\n",
        "print('Se passaram {} dias entre o primeiro caso e a primeira morte no Brasil.'.format(delta.days))"
      ],
      "execution_count": 63,
      "outputs": [
        {
          "output_type": "stream",
          "text": [
            "Se passaram 21 dias entre o primeiro caso e a primeira morte no Brasil.\n"
          ],
          "name": "stdout"
        }
      ]
    },
    {
      "cell_type": "markdown",
      "metadata": {
        "id": "2w9oOxCwflq9",
        "colab_type": "text"
      },
      "source": [
        "#### Grafico Logaritmico\n",
        "\n",
        "Com esses dados em mãos vamos plotar um grafico logaritmico para melhor visualização. "
      ]
    },
    {
      "cell_type": "code",
      "metadata": {
        "id": "qFxzBiFuDX3a",
        "colab_type": "code",
        "colab": {
          "base_uri": "https://localhost:8080/",
          "height": 585
        },
        "outputId": "403dbc34-a7b7-448f-84f7-a1a8c2535222"
      },
      "source": [
        "# Gerando o grafico logaritmico\n",
        "fig, ax = plt.subplots(figsize=(12,8))\n",
        "df_brazil.plot('date', 'total_cases', ax=ax, color='#00b3b3', linewidth=2, legend=False)\n",
        "ax.tick_params(\n",
        "    axis='both',         \n",
        "    which='both',     \n",
        "    bottom=False,      \n",
        "    top=False,         \n",
        "    labelbottom=True) \n",
        "\n",
        "\n",
        "plt.vlines(x='2020-02-26', ymin=0, ymax=1400000, color='#00b3b3',linestyle='dashed')\n",
        "plt.vlines(x='2020-03-18', ymin=0, ymax=1400000, color='#cc0000',linestyle='dashed')\n",
        "\n",
        "\n",
        "plt.text(x='2020-01-31', y=1500000, s='Primeiro Caso',fontsize=12)\n",
        "plt.text(x='2020-03-20', y=1500000, s='Primeira Morte', fontsize=12)\n",
        "\n",
        "\n",
        "ax.set_yscale('log')\n",
        "sns.set_style('whitegrid')\n",
        "sns.despine(left=True)\n",
        "plt.gca().axes.get_yaxis().set_visible(False)\n",
        "plt.grid(False)\n",
        "plt.tight_layout();"
      ],
      "execution_count": 20,
      "outputs": [
        {
          "output_type": "display_data",
          "data": {
            "image/png": "[encoded data removed]",
            "text/plain": [
              "<Figure size 864x576 with 1 Axes>"
            ]
          },
          "metadata": {
            "tags": []
          }
        }
      ]
    },
    {
      "cell_type": "markdown",
      "metadata": {
        "id": "v_Zr2WccgDec",
        "colab_type": "text"
      },
      "source": [
        "Podemos observar que o número de casos já estava em uma enorme crescente até o registro da primeira morte."
      ]
    },
    {
      "cell_type": "markdown",
      "metadata": {
        "id": "GWVhVdg2gaW6",
        "colab_type": "text"
      },
      "source": [
        "#### Número de mortes diárias\n",
        "\n",
        "Para analisarmos como está a pandemia no Brasil nos últimos 15 dias, vamos gerar um gráfico com os dados de mortes diárias e traçarmos uma linha média. "
      ]
    },
    {
      "cell_type": "code",
      "metadata": {
        "id": "LADyIX95ETJk",
        "colab_type": "code",
        "colab": {
          "base_uri": "https://localhost:8080/",
          "height": 512
        },
        "outputId": "4086a157-dcb3-4e36-e0a2-8a49ee80ef95"
      },
      "source": [
        "# Grafico com número de mortes por dia\n",
        "\n",
        "fig, ax = plt.subplots(figsize=(15, 8))\n",
        "\n",
        "\n",
        "df_brazil.loc[df['date'] >= '2020-08-15'].plot('date', 'new_deaths', ax=ax, color='#B30000', legend=False, grid=False,kind='bar')\n",
        "plt.hlines(y=df_brazil.loc[df['date'] >= '2020-08-15', ['date', 'new_deaths']].mean(),\n",
        "           xmin=0, xmax=df_brazil.date.max(), \n",
        "           linewidth=2,linestyles='dashed')\n",
        "\n",
        "ax.annotate('Média - 921 ', xy =(15.5, 921), \n",
        "             xytext =(15.5, 1300),fontsize=14, \n",
        "             arrowprops = dict(facecolor ='black', \n",
        "                               shrink = 0.05)) \n",
        "\n",
        "major_ticks = []\n",
        "major_tick_labels = []\n",
        "minor_ticks = []\n",
        "minor_tick_labels = []\n",
        "\n",
        "for loc, label in zip(ax.get_xticks(), ax.get_xticklabels()):\n",
        "  when = datetime.strptime(label.get_text(), '%Y-%m-%d %H:%M:%S')\n",
        "  if when.day == 1:\n",
        "    major_ticks.append(loc)\n",
        "    major_tick_labels.append(when.strftime(\"\\n\\n\\n%b\\n%Y\"))\n",
        "  else:\n",
        "    minor_ticks.append(loc)\n",
        "    if when.weekday() == 0:\n",
        "      minor_tick_labels.append(when.strftime(\"%d\\n%a\"))\n",
        "    else:\n",
        "      minor_tick_labels.append(when.strftime(\"%d\"))\n",
        "\n",
        "\n",
        "ax.set_xticks(major_ticks)\n",
        "ax.set_xticklabels(major_tick_labels)\n",
        "ax.set_xticks(minor_ticks, minor=True)\n",
        "ax.set_xticklabels(minor_tick_labels, minor=True)\n",
        "\n",
        "plt.show();"
      ],
      "execution_count": 62,
      "outputs": [
        {
          "output_type": "display_data",
          "data": {
            "image/png": "[encoded data removed]",
            "text/plain": [
              "<Figure size 1080x576 with 1 Axes>"
            ]
          },
          "metadata": {
            "tags": []
          }
        }
      ]
    },
    {
      "cell_type": "markdown",
      "metadata": {
        "id": "aq8ofTohnUZ2",
        "colab_type": "text"
      },
      "source": [
        "Para comparamos, vamos calcular a média de mortes no mês de julho."
      ]
    },
    {
      "cell_type": "code",
      "metadata": {
        "id": "cWeCvX9vQJEI",
        "colab_type": "code",
        "colab": {
          "base_uri": "https://localhost:8080/",
          "height": 51
        },
        "outputId": "e0f6f665-05d9-43b9-fc72-1f268191cbef"
      },
      "source": [
        "# média de mortes no mês de julho\n",
        "\n",
        "df_brazil.loc[(df['date'] >= '2020-07-01') & (df['date'] <= '2020-07-30') ,['new_deaths']].mean()"
      ],
      "execution_count": 64,
      "outputs": [
        {
          "output_type": "execute_result",
          "data": {
            "text/plain": [
              "new_deaths    1060.666667\n",
              "dtype: float64"
            ]
          },
          "metadata": {
            "tags": []
          },
          "execution_count": 64
        }
      ]
    },
    {
      "cell_type": "markdown",
      "metadata": {
        "id": "PkYq1ovyncMt",
        "colab_type": "text"
      },
      "source": [
        "Com esses dados, podemos observar que a média de mortes vem reduzindo, porém ainda assim são 921 mortes em média por dia de vidas perdidas. "
      ]
    },
    {
      "cell_type": "markdown",
      "metadata": {
        "id": "rYZ1nLQOnqEt",
        "colab_type": "text"
      },
      "source": [
        "## Conclusão\n",
        "\n",
        "Um detalhe referente a essa análise, é que esses dados são atualizados diariamente sendo assim rapidamente esse conjunto de dados ficará desatualizado. \n",
        "\n",
        "Porém, através dos dados analisados, podemos destacar que: \n",
        "\n",
        "* Os Estados Unidos estão disparados em número de casos e de mortes. \n",
        "* A média de mortes diárias no Brasil está diminuindo.\n",
        "* No mundo, casos e mortes ainda estão crescendo. \n",
        "\n",
        "Outras análises podem ser feitas através desse conjunto de dados, mas com essa análise inicial conseguimos extrair muitas informações."
      ]
    },
    {
      "cell_type": "code",
      "metadata": {
        "id": "ta2f1_7rnrtn",
        "colab_type": "code",
        "colab": {}
      },
      "source": [
        ""
      ],
      "execution_count": null,
      "outputs": []
    }
  ]
}