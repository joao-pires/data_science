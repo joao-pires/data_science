{
  "nbformat": 4,
  "nbformat_minor": 0,
  "metadata": {
    "colab": {
      "name": "Analisando_dados_violencia_SP.ipynb",
      "provenance": [],
      "collapsed_sections": [],
      "authorship_tag": "ABX9TyOvz7K33zg8V38FXN1Mg9Hr",
      "include_colab_link": true
    },
    "kernelspec": {
      "name": "python3",
      "display_name": "Python 3"
    }
  },
  "cells": [
    {
      "cell_type": "markdown",
      "metadata": {
        "id": "view-in-github",
        "colab_type": "text"
      },
      "source": [
        "<a href=\"https://colab.research.google.com/github/joao-pires/data_science/blob/master/Analisando_dados_violencia_SP.ipynb\" target=\"_parent\"><img src=\"https://colab.research.google.com/assets/colab-badge.svg\" alt=\"Open In Colab\"/></a>"
      ]
    },
    {
      "cell_type": "markdown",
      "metadata": {
        "id": "wqU9M6Vq9j2e",
        "colab_type": "text"
      },
      "source": [
        "# Analisando a Violência em São Paulo\n",
        "\n",
        "É fato que a violência assusta e amedronta a vida dos paulistanos. Não somente em São Paulo, mas em todo o Brasil. \n",
        "\n",
        "Afinal, o que acontece nas ruas da cidade? Vários fatores podem tentar explicar, ao menos em parte, o que ocorre.\n",
        "\n",
        "Para isso, o governo do estado de São Paulo disponibiliza no [portal de Segurança Pública](https://www.ssp.sp.gov.br/) diversos dados estatísticos sobre a violência no estado. "
      ]
    },
    {
      "cell_type": "markdown",
      "metadata": {
        "id": "-RfPuhMTCso1",
        "colab_type": "text"
      },
      "source": [
        "# Obtenção dos Dados\n",
        "\n",
        "Os dados foram obtidos diretamente do porta de Segurança Publica do Estado de SP. \n",
        "\n",
        "As estatísticas divulgadas no portal são construídas a partir dos Registros de Ocorrência (RO) além de informações complementares da produtividade Policial.\n",
        "\n",
        "No caso do dataset a ser utilizado aqui, o arquivo csv pode ser baixado diretamente neste [link](https://raw.githubusercontent.com/joao-pires/data_science/master/datasets/crimes_sp.csv)."
      ]
    },
    {
      "cell_type": "markdown",
      "metadata": {
        "id": "OuCRg2pnD92t",
        "colab_type": "text"
      },
      "source": [
        "## Importando os dados"
      ]
    },
    {
      "cell_type": "code",
      "metadata": {
        "id": "Q4FcM_Uw2380",
        "colab_type": "code",
        "colab": {}
      },
      "source": [
        "# importando os pacotes necessários\n",
        "import pandas as pd\n",
        "import matplotlib.pyplot as plt\n",
        "\n",
        "\n",
        "df = pd.read_csv('https://raw.githubusercontent.com/joao-pires/data_science/master/datasets/crimes_sp.csv')"
      ],
      "execution_count": 0,
      "outputs": []
    },
    {
      "cell_type": "markdown",
      "metadata": {
        "id": "E82qnzAbjRmE",
        "colab_type": "text"
      },
      "source": [
        "# Análise Inicial dos Dados\n",
        "\n",
        "Antes de iniciar qualquer análise, vamos verificar a cara do nosso dataset, analisando as 5 primeiras entradas."
      ]
    },
    {
      "cell_type": "code",
      "metadata": {
        "id": "H1YsxKzAjpJh",
        "colab_type": "code",
        "outputId": "0d309ff7-1f53-4d2a-8bcc-bb0d45aeb4c0",
        "colab": {
          "base_uri": "https://localhost:8080/",
          "height": 224
        }
      },
      "source": [
        "# mostrar as 5 primeiras entradas\n",
        "df.head()"
      ],
      "execution_count": 3,
      "outputs": [
        {
          "output_type": "execute_result",
          "data": {
            "text/html": [
              "<div>\n",
              "<style scoped>\n",
              "    .dataframe tbody tr th:only-of-type {\n",
              "        vertical-align: middle;\n",
              "    }\n",
              "\n",
              "    .dataframe tbody tr th {\n",
              "        vertical-align: top;\n",
              "    }\n",
              "\n",
              "    .dataframe thead th {\n",
              "        text-align: right;\n",
              "    }\n",
              "</style>\n",
              "<table border=\"1\" class=\"dataframe\">\n",
              "  <thead>\n",
              "    <tr style=\"text-align: right;\">\n",
              "      <th></th>\n",
              "      <th>ano</th>\n",
              "      <th>mes</th>\n",
              "      <th>homicidio_doloso</th>\n",
              "      <th>vitimos_homicio_doloso</th>\n",
              "      <th>homicidio_doloso_acidente_transito</th>\n",
              "      <th>vitimas_homicidio_doloso_acidente_transito</th>\n",
              "      <th>homicidio_culposo_acidente_transito</th>\n",
              "      <th>homicidio_culposo_outros</th>\n",
              "      <th>tentativa_homicidio</th>\n",
              "      <th>lesao_corporal_doloso</th>\n",
              "      <th>lesao_corporal_culposa_acidente_transito</th>\n",
              "      <th>lesao_corporal_culposa_outros</th>\n",
              "      <th>latrocinio</th>\n",
              "      <th>vitimas_latrocinio</th>\n",
              "      <th>estupro</th>\n",
              "      <th>roubo_outros</th>\n",
              "      <th>roubo_veiculo</th>\n",
              "      <th>roubo_banco</th>\n",
              "      <th>roubo_carga</th>\n",
              "      <th>furto_outros</th>\n",
              "      <th>furto_veiculo</th>\n",
              "      <th>ocorrencias_porte_entorpecentes</th>\n",
              "      <th>ocorrencias_trafico_entorpecentes</th>\n",
              "      <th>ocorrencia_apreensao_entorpecentes</th>\n",
              "      <th>ocorrencia_porte_ilegal_armas</th>\n",
              "      <th>arma_fogo_apreendias</th>\n",
              "      <th>flagrantes_lavrados</th>\n",
              "      <th>infratores_apreendidos_flagrante</th>\n",
              "      <th>infratores_apreendido_mandato</th>\n",
              "      <th>pessoas_presas_flagrante</th>\n",
              "      <th>pessoas_presas_mandato</th>\n",
              "      <th>prisões_efetuadas</th>\n",
              "      <th>veiculos_recuperados</th>\n",
              "      <th>inqueritos_policiais_instaurados</th>\n",
              "    </tr>\n",
              "  </thead>\n",
              "  <tbody>\n",
              "    <tr>\n",
              "      <th>0</th>\n",
              "      <td>2009</td>\n",
              "      <td>Jan</td>\n",
              "      <td>103</td>\n",
              "      <td>107</td>\n",
              "      <td>0</td>\n",
              "      <td>0</td>\n",
              "      <td>52</td>\n",
              "      <td>6</td>\n",
              "      <td>98</td>\n",
              "      <td>3157</td>\n",
              "      <td>1735</td>\n",
              "      <td>87</td>\n",
              "      <td>11</td>\n",
              "      <td>11</td>\n",
              "      <td>109</td>\n",
              "      <td>10187</td>\n",
              "      <td>3109</td>\n",
              "      <td>12</td>\n",
              "      <td>375</td>\n",
              "      <td>14216</td>\n",
              "      <td>3313</td>\n",
              "      <td>184</td>\n",
              "      <td>479</td>\n",
              "      <td>25</td>\n",
              "      <td>156</td>\n",
              "      <td>488</td>\n",
              "      <td>1676</td>\n",
              "      <td>184</td>\n",
              "      <td>33</td>\n",
              "      <td>2137</td>\n",
              "      <td>615</td>\n",
              "      <td>2016</td>\n",
              "      <td>2534</td>\n",
              "      <td>7334</td>\n",
              "    </tr>\n",
              "    <tr>\n",
              "      <th>1</th>\n",
              "      <td>2009</td>\n",
              "      <td>Fev</td>\n",
              "      <td>90</td>\n",
              "      <td>96</td>\n",
              "      <td>0</td>\n",
              "      <td>0</td>\n",
              "      <td>55</td>\n",
              "      <td>6</td>\n",
              "      <td>106</td>\n",
              "      <td>3159</td>\n",
              "      <td>1769</td>\n",
              "      <td>94</td>\n",
              "      <td>6</td>\n",
              "      <td>6</td>\n",
              "      <td>87</td>\n",
              "      <td>9960</td>\n",
              "      <td>3064</td>\n",
              "      <td>8</td>\n",
              "      <td>373</td>\n",
              "      <td>12086</td>\n",
              "      <td>3243</td>\n",
              "      <td>191</td>\n",
              "      <td>371</td>\n",
              "      <td>19</td>\n",
              "      <td>176</td>\n",
              "      <td>559</td>\n",
              "      <td>1758</td>\n",
              "      <td>155</td>\n",
              "      <td>21</td>\n",
              "      <td>2244</td>\n",
              "      <td>525</td>\n",
              "      <td>2011</td>\n",
              "      <td>2568</td>\n",
              "      <td>7236</td>\n",
              "    </tr>\n",
              "    <tr>\n",
              "      <th>2</th>\n",
              "      <td>2009</td>\n",
              "      <td>Mar</td>\n",
              "      <td>112</td>\n",
              "      <td>120</td>\n",
              "      <td>0</td>\n",
              "      <td>0</td>\n",
              "      <td>64</td>\n",
              "      <td>6</td>\n",
              "      <td>97</td>\n",
              "      <td>3622</td>\n",
              "      <td>2209</td>\n",
              "      <td>102</td>\n",
              "      <td>10</td>\n",
              "      <td>10</td>\n",
              "      <td>127</td>\n",
              "      <td>11005</td>\n",
              "      <td>3496</td>\n",
              "      <td>15</td>\n",
              "      <td>418</td>\n",
              "      <td>13847</td>\n",
              "      <td>3983</td>\n",
              "      <td>205</td>\n",
              "      <td>437</td>\n",
              "      <td>25</td>\n",
              "      <td>150</td>\n",
              "      <td>679</td>\n",
              "      <td>1888</td>\n",
              "      <td>179</td>\n",
              "      <td>37</td>\n",
              "      <td>2419</td>\n",
              "      <td>640</td>\n",
              "      <td>2183</td>\n",
              "      <td>2845</td>\n",
              "      <td>8113</td>\n",
              "    </tr>\n",
              "    <tr>\n",
              "      <th>3</th>\n",
              "      <td>2009</td>\n",
              "      <td>Abr</td>\n",
              "      <td>113</td>\n",
              "      <td>120</td>\n",
              "      <td>0</td>\n",
              "      <td>0</td>\n",
              "      <td>58</td>\n",
              "      <td>3</td>\n",
              "      <td>107</td>\n",
              "      <td>3124</td>\n",
              "      <td>2085</td>\n",
              "      <td>90</td>\n",
              "      <td>13</td>\n",
              "      <td>13</td>\n",
              "      <td>85</td>\n",
              "      <td>10379</td>\n",
              "      <td>3118</td>\n",
              "      <td>18</td>\n",
              "      <td>412</td>\n",
              "      <td>13990</td>\n",
              "      <td>3793</td>\n",
              "      <td>223</td>\n",
              "      <td>429</td>\n",
              "      <td>21</td>\n",
              "      <td>160</td>\n",
              "      <td>619</td>\n",
              "      <td>1832</td>\n",
              "      <td>150</td>\n",
              "      <td>18</td>\n",
              "      <td>2358</td>\n",
              "      <td>669</td>\n",
              "      <td>2137</td>\n",
              "      <td>2746</td>\n",
              "      <td>7997</td>\n",
              "    </tr>\n",
              "    <tr>\n",
              "      <th>4</th>\n",
              "      <td>2009</td>\n",
              "      <td>Mai</td>\n",
              "      <td>125</td>\n",
              "      <td>125</td>\n",
              "      <td>0</td>\n",
              "      <td>0</td>\n",
              "      <td>54</td>\n",
              "      <td>8</td>\n",
              "      <td>106</td>\n",
              "      <td>3109</td>\n",
              "      <td>2139</td>\n",
              "      <td>78</td>\n",
              "      <td>8</td>\n",
              "      <td>8</td>\n",
              "      <td>115</td>\n",
              "      <td>10865</td>\n",
              "      <td>3173</td>\n",
              "      <td>9</td>\n",
              "      <td>392</td>\n",
              "      <td>16061</td>\n",
              "      <td>3939</td>\n",
              "      <td>201</td>\n",
              "      <td>476</td>\n",
              "      <td>18</td>\n",
              "      <td>190</td>\n",
              "      <td>579</td>\n",
              "      <td>1947</td>\n",
              "      <td>136</td>\n",
              "      <td>27</td>\n",
              "      <td>2504</td>\n",
              "      <td>644</td>\n",
              "      <td>2253</td>\n",
              "      <td>2902</td>\n",
              "      <td>8644</td>\n",
              "    </tr>\n",
              "  </tbody>\n",
              "</table>\n",
              "</div>"
            ],
            "text/plain": [
              "    ano  mes  ...  veiculos_recuperados  inqueritos_policiais_instaurados\n",
              "0  2009  Jan  ...                  2534                              7334\n",
              "1  2009  Fev  ...                  2568                              7236\n",
              "2  2009  Mar  ...                  2845                              8113\n",
              "3  2009  Abr  ...                  2746                              7997\n",
              "4  2009  Mai  ...                  2902                              8644\n",
              "\n",
              "[5 rows x 34 columns]"
            ]
          },
          "metadata": {
            "tags": []
          },
          "execution_count": 3
        }
      ]
    },
    {
      "cell_type": "markdown",
      "metadata": {
        "id": "s-0lbhdTmZ0f",
        "colab_type": "text"
      },
      "source": [
        "### Qual o tamanho do nosso dataframe?\n",
        "\n",
        "Vamos prosseguir analisando o tamanho do nosso dataframe, quantas variáveis e entradas possuem."
      ]
    },
    {
      "cell_type": "code",
      "metadata": {
        "id": "t6CLWQxFmeS1",
        "colab_type": "code",
        "outputId": "7c9bc336-22dd-40f4-9720-3d9e9b11bbb1",
        "colab": {
          "base_uri": "https://localhost:8080/",
          "height": 71
        }
      },
      "source": [
        "# identificar o volume de dados do dataframe\n",
        "print(\"Variáveis:\\t {}\".format(df.shape[1]))\n",
        "print(\"Entradas:\\t {}\\n\".format(df.shape[0]))\n"
      ],
      "execution_count": 4,
      "outputs": [
        {
          "output_type": "stream",
          "text": [
            "Variáveis:\t 34\n",
            "Entradas:\t 132\n",
            "\n"
          ],
          "name": "stdout"
        }
      ]
    },
    {
      "cell_type": "markdown",
      "metadata": {
        "id": "ND1avvykulyI",
        "colab_type": "text"
      },
      "source": [
        "### Qual o nome e tipo das colunas (entradas)? \n",
        "\n",
        "Agora vamos analisar qual o nome das colunas e os tipos de cada uma delas."
      ]
    },
    {
      "cell_type": "code",
      "metadata": {
        "id": "q0lIlfizv1y8",
        "colab_type": "code",
        "outputId": "51ca0bf8-8e64-40d9-d4e1-f5a91fcd9490",
        "colab": {
          "base_uri": "https://localhost:8080/",
          "height": 323
        }
      },
      "source": [
        "# Imprimir o nome das colunas\n",
        "df.columns"
      ],
      "execution_count": 5,
      "outputs": [
        {
          "output_type": "execute_result",
          "data": {
            "text/plain": [
              "Index(['ano', 'mes', 'homicidio_doloso', 'vitimos_homicio_doloso',\n",
              "       'homicidio_doloso_acidente_transito',\n",
              "       'vitimas_homicidio_doloso_acidente_transito',\n",
              "       'homicidio_culposo_acidente_transito', 'homicidio_culposo_outros',\n",
              "       'tentativa_homicidio', 'lesao_corporal_doloso',\n",
              "       'lesao_corporal_culposa_acidente_transito',\n",
              "       'lesao_corporal_culposa_outros', 'latrocinio', 'vitimas_latrocinio',\n",
              "       'estupro', 'roubo_outros', 'roubo_veiculo', 'roubo_banco',\n",
              "       'roubo_carga', 'furto_outros', 'furto_veiculo',\n",
              "       'ocorrencias_porte_entorpecentes', 'ocorrencias_trafico_entorpecentes',\n",
              "       'ocorrencia_apreensao_entorpecentes', 'ocorrencia_porte_ilegal_armas',\n",
              "       'arma_fogo_apreendias', 'flagrantes_lavrados',\n",
              "       'infratores_apreendidos_flagrante', 'infratores_apreendido_mandato',\n",
              "       'pessoas_presas_flagrante', 'pessoas_presas_mandato',\n",
              "       'prisões_efetuadas', 'veiculos_recuperados',\n",
              "       'inqueritos_policiais_instaurados'],\n",
              "      dtype='object')"
            ]
          },
          "metadata": {
            "tags": []
          },
          "execution_count": 5
        }
      ]
    },
    {
      "cell_type": "code",
      "metadata": {
        "id": "G4L29B9Yu1cL",
        "colab_type": "code",
        "outputId": "e69b63b7-2127-4bcb-a307-c8f0f5db9c26",
        "colab": {
          "base_uri": "https://localhost:8080/",
          "height": 647
        }
      },
      "source": [
        "# Imprimir os tipos das colunas\n",
        "df.dtypes"
      ],
      "execution_count": 6,
      "outputs": [
        {
          "output_type": "execute_result",
          "data": {
            "text/plain": [
              "ano                                            int64\n",
              "mes                                           object\n",
              "homicidio_doloso                               int64\n",
              "vitimos_homicio_doloso                         int64\n",
              "homicidio_doloso_acidente_transito             int64\n",
              "vitimas_homicidio_doloso_acidente_transito     int64\n",
              "homicidio_culposo_acidente_transito            int64\n",
              "homicidio_culposo_outros                       int64\n",
              "tentativa_homicidio                            int64\n",
              "lesao_corporal_doloso                          int64\n",
              "lesao_corporal_culposa_acidente_transito       int64\n",
              "lesao_corporal_culposa_outros                  int64\n",
              "latrocinio                                     int64\n",
              "vitimas_latrocinio                             int64\n",
              "estupro                                        int64\n",
              "roubo_outros                                   int64\n",
              "roubo_veiculo                                  int64\n",
              "roubo_banco                                    int64\n",
              "roubo_carga                                    int64\n",
              "furto_outros                                   int64\n",
              "furto_veiculo                                  int64\n",
              "ocorrencias_porte_entorpecentes                int64\n",
              "ocorrencias_trafico_entorpecentes              int64\n",
              "ocorrencia_apreensao_entorpecentes             int64\n",
              "ocorrencia_porte_ilegal_armas                  int64\n",
              "arma_fogo_apreendias                           int64\n",
              "flagrantes_lavrados                            int64\n",
              "infratores_apreendidos_flagrante               int64\n",
              "infratores_apreendido_mandato                  int64\n",
              "pessoas_presas_flagrante                       int64\n",
              "pessoas_presas_mandato                         int64\n",
              "prisões_efetuadas                              int64\n",
              "veiculos_recuperados                           int64\n",
              "inqueritos_policiais_instaurados               int64\n",
              "dtype: object"
            ]
          },
          "metadata": {
            "tags": []
          },
          "execution_count": 6
        }
      ]
    },
    {
      "cell_type": "markdown",
      "metadata": {
        "id": "z3sccIaowIUZ",
        "colab_type": "text"
      },
      "source": [
        "### Existem valores ausentes? \n",
        "\n",
        "É importante sabermos logo no início se o nosso *dataset* possuem valores ausentes e se irão impactar em nossas análises. "
      ]
    },
    {
      "cell_type": "code",
      "metadata": {
        "id": "tpot3e1iwfni",
        "colab_type": "code",
        "outputId": "ce9d0820-ecf2-4975-c217-82ca683afd1c",
        "colab": {
          "base_uri": "https://localhost:8080/",
          "height": 647
        }
      },
      "source": [
        "df.isnull().sum()"
      ],
      "execution_count": 7,
      "outputs": [
        {
          "output_type": "execute_result",
          "data": {
            "text/plain": [
              "ano                                           0\n",
              "mes                                           0\n",
              "homicidio_doloso                              0\n",
              "vitimos_homicio_doloso                        0\n",
              "homicidio_doloso_acidente_transito            0\n",
              "vitimas_homicidio_doloso_acidente_transito    0\n",
              "homicidio_culposo_acidente_transito           0\n",
              "homicidio_culposo_outros                      0\n",
              "tentativa_homicidio                           0\n",
              "lesao_corporal_doloso                         0\n",
              "lesao_corporal_culposa_acidente_transito      0\n",
              "lesao_corporal_culposa_outros                 0\n",
              "latrocinio                                    0\n",
              "vitimas_latrocinio                            0\n",
              "estupro                                       0\n",
              "roubo_outros                                  0\n",
              "roubo_veiculo                                 0\n",
              "roubo_banco                                   0\n",
              "roubo_carga                                   0\n",
              "furto_outros                                  0\n",
              "furto_veiculo                                 0\n",
              "ocorrencias_porte_entorpecentes               0\n",
              "ocorrencias_trafico_entorpecentes             0\n",
              "ocorrencia_apreensao_entorpecentes            0\n",
              "ocorrencia_porte_ilegal_armas                 0\n",
              "arma_fogo_apreendias                          0\n",
              "flagrantes_lavrados                           0\n",
              "infratores_apreendidos_flagrante              0\n",
              "infratores_apreendido_mandato                 0\n",
              "pessoas_presas_flagrante                      0\n",
              "pessoas_presas_mandato                        0\n",
              "prisões_efetuadas                             0\n",
              "veiculos_recuperados                          0\n",
              "inqueritos_policiais_instaurados              0\n",
              "dtype: int64"
            ]
          },
          "metadata": {
            "tags": []
          },
          "execution_count": 7
        }
      ]
    },
    {
      "cell_type": "markdown",
      "metadata": {
        "id": "qQU4mygGw98X",
        "colab_type": "text"
      },
      "source": [
        "Nosso *dataset* não possuem valores nulos, podemos então prosseguir com nossa análise sem realizar alguma correção. "
      ]
    },
    {
      "cell_type": "markdown",
      "metadata": {
        "id": "OnYkap_oxNyt",
        "colab_type": "text"
      },
      "source": [
        "# Informações Estatísticas da Violência de São Paulo\n",
        "\n"
      ]
    },
    {
      "cell_type": "markdown",
      "metadata": {
        "id": "bj6Ja32RLhS-",
        "colab_type": "text"
      },
      "source": [
        "Primeiramente vamos realizar um resumo estatístico utilizando o método `describe()`.  "
      ]
    },
    {
      "cell_type": "code",
      "metadata": {
        "id": "t6O9mF6Uxc11",
        "colab_type": "code",
        "outputId": "7d65e0f4-2178-4786-e0aa-90bc95bbe405",
        "colab": {
          "base_uri": "https://localhost:8080/",
          "height": 317
        }
      },
      "source": [
        "# resumo estatistico\n",
        "df.describe().astype('int')"
      ],
      "execution_count": 8,
      "outputs": [
        {
          "output_type": "execute_result",
          "data": {
            "text/html": [
              "<div>\n",
              "<style scoped>\n",
              "    .dataframe tbody tr th:only-of-type {\n",
              "        vertical-align: middle;\n",
              "    }\n",
              "\n",
              "    .dataframe tbody tr th {\n",
              "        vertical-align: top;\n",
              "    }\n",
              "\n",
              "    .dataframe thead th {\n",
              "        text-align: right;\n",
              "    }\n",
              "</style>\n",
              "<table border=\"1\" class=\"dataframe\">\n",
              "  <thead>\n",
              "    <tr style=\"text-align: right;\">\n",
              "      <th></th>\n",
              "      <th>ano</th>\n",
              "      <th>homicidio_doloso</th>\n",
              "      <th>vitimos_homicio_doloso</th>\n",
              "      <th>homicidio_doloso_acidente_transito</th>\n",
              "      <th>vitimas_homicidio_doloso_acidente_transito</th>\n",
              "      <th>homicidio_culposo_acidente_transito</th>\n",
              "      <th>homicidio_culposo_outros</th>\n",
              "      <th>tentativa_homicidio</th>\n",
              "      <th>lesao_corporal_doloso</th>\n",
              "      <th>lesao_corporal_culposa_acidente_transito</th>\n",
              "      <th>lesao_corporal_culposa_outros</th>\n",
              "      <th>latrocinio</th>\n",
              "      <th>vitimas_latrocinio</th>\n",
              "      <th>estupro</th>\n",
              "      <th>roubo_outros</th>\n",
              "      <th>roubo_veiculo</th>\n",
              "      <th>roubo_banco</th>\n",
              "      <th>roubo_carga</th>\n",
              "      <th>furto_outros</th>\n",
              "      <th>furto_veiculo</th>\n",
              "      <th>ocorrencias_porte_entorpecentes</th>\n",
              "      <th>ocorrencias_trafico_entorpecentes</th>\n",
              "      <th>ocorrencia_apreensao_entorpecentes</th>\n",
              "      <th>ocorrencia_porte_ilegal_armas</th>\n",
              "      <th>arma_fogo_apreendias</th>\n",
              "      <th>flagrantes_lavrados</th>\n",
              "      <th>infratores_apreendidos_flagrante</th>\n",
              "      <th>infratores_apreendido_mandato</th>\n",
              "      <th>pessoas_presas_flagrante</th>\n",
              "      <th>pessoas_presas_mandato</th>\n",
              "      <th>prisões_efetuadas</th>\n",
              "      <th>veiculos_recuperados</th>\n",
              "      <th>inqueritos_policiais_instaurados</th>\n",
              "    </tr>\n",
              "  </thead>\n",
              "  <tbody>\n",
              "    <tr>\n",
              "      <th>count</th>\n",
              "      <td>132</td>\n",
              "      <td>132</td>\n",
              "      <td>132</td>\n",
              "      <td>132</td>\n",
              "      <td>132</td>\n",
              "      <td>132</td>\n",
              "      <td>132</td>\n",
              "      <td>132</td>\n",
              "      <td>132</td>\n",
              "      <td>132</td>\n",
              "      <td>132</td>\n",
              "      <td>132</td>\n",
              "      <td>132</td>\n",
              "      <td>132</td>\n",
              "      <td>132</td>\n",
              "      <td>132</td>\n",
              "      <td>132</td>\n",
              "      <td>132</td>\n",
              "      <td>132</td>\n",
              "      <td>132</td>\n",
              "      <td>132</td>\n",
              "      <td>132</td>\n",
              "      <td>132</td>\n",
              "      <td>132</td>\n",
              "      <td>132</td>\n",
              "      <td>132</td>\n",
              "      <td>132</td>\n",
              "      <td>132</td>\n",
              "      <td>132</td>\n",
              "      <td>132</td>\n",
              "      <td>132</td>\n",
              "      <td>132</td>\n",
              "      <td>132</td>\n",
              "    </tr>\n",
              "    <tr>\n",
              "      <th>mean</th>\n",
              "      <td>2014</td>\n",
              "      <td>83</td>\n",
              "      <td>88</td>\n",
              "      <td>0</td>\n",
              "      <td>1</td>\n",
              "      <td>43</td>\n",
              "      <td>4</td>\n",
              "      <td>91</td>\n",
              "      <td>2862</td>\n",
              "      <td>1779</td>\n",
              "      <td>102</td>\n",
              "      <td>8</td>\n",
              "      <td>8</td>\n",
              "      <td>205</td>\n",
              "      <td>11274</td>\n",
              "      <td>3123</td>\n",
              "      <td>7</td>\n",
              "      <td>395</td>\n",
              "      <td>16045</td>\n",
              "      <td>3626</td>\n",
              "      <td>234</td>\n",
              "      <td>613</td>\n",
              "      <td>31</td>\n",
              "      <td>118</td>\n",
              "      <td>395</td>\n",
              "      <td>2313</td>\n",
              "      <td>272</td>\n",
              "      <td>32</td>\n",
              "      <td>2813</td>\n",
              "      <td>861</td>\n",
              "      <td>2599</td>\n",
              "      <td>2730</td>\n",
              "      <td>8690</td>\n",
              "    </tr>\n",
              "    <tr>\n",
              "      <th>std</th>\n",
              "      <td>3</td>\n",
              "      <td>23</td>\n",
              "      <td>26</td>\n",
              "      <td>1</td>\n",
              "      <td>1</td>\n",
              "      <td>13</td>\n",
              "      <td>4</td>\n",
              "      <td>25</td>\n",
              "      <td>487</td>\n",
              "      <td>455</td>\n",
              "      <td>30</td>\n",
              "      <td>3</td>\n",
              "      <td>3</td>\n",
              "      <td>44</td>\n",
              "      <td>1718</td>\n",
              "      <td>754</td>\n",
              "      <td>5</td>\n",
              "      <td>71</td>\n",
              "      <td>1772</td>\n",
              "      <td>463</td>\n",
              "      <td>221</td>\n",
              "      <td>127</td>\n",
              "      <td>13</td>\n",
              "      <td>22</td>\n",
              "      <td>110</td>\n",
              "      <td>374</td>\n",
              "      <td>83</td>\n",
              "      <td>22</td>\n",
              "      <td>381</td>\n",
              "      <td>272</td>\n",
              "      <td>413</td>\n",
              "      <td>518</td>\n",
              "      <td>1067</td>\n",
              "    </tr>\n",
              "    <tr>\n",
              "      <th>min</th>\n",
              "      <td>2009</td>\n",
              "      <td>40</td>\n",
              "      <td>42</td>\n",
              "      <td>0</td>\n",
              "      <td>0</td>\n",
              "      <td>21</td>\n",
              "      <td>0</td>\n",
              "      <td>46</td>\n",
              "      <td>2053</td>\n",
              "      <td>985</td>\n",
              "      <td>50</td>\n",
              "      <td>1</td>\n",
              "      <td>1</td>\n",
              "      <td>64</td>\n",
              "      <td>8380</td>\n",
              "      <td>1525</td>\n",
              "      <td>0</td>\n",
              "      <td>257</td>\n",
              "      <td>12086</td>\n",
              "      <td>2359</td>\n",
              "      <td>84</td>\n",
              "      <td>371</td>\n",
              "      <td>11</td>\n",
              "      <td>74</td>\n",
              "      <td>178</td>\n",
              "      <td>1589</td>\n",
              "      <td>122</td>\n",
              "      <td>3</td>\n",
              "      <td>2032</td>\n",
              "      <td>433</td>\n",
              "      <td>1785</td>\n",
              "      <td>1623</td>\n",
              "      <td>6318</td>\n",
              "    </tr>\n",
              "    <tr>\n",
              "      <th>25%</th>\n",
              "      <td>2011</td>\n",
              "      <td>63</td>\n",
              "      <td>66</td>\n",
              "      <td>0</td>\n",
              "      <td>0</td>\n",
              "      <td>32</td>\n",
              "      <td>2</td>\n",
              "      <td>70</td>\n",
              "      <td>2454</td>\n",
              "      <td>1321</td>\n",
              "      <td>80</td>\n",
              "      <td>6</td>\n",
              "      <td>6</td>\n",
              "      <td>183</td>\n",
              "      <td>9772</td>\n",
              "      <td>2673</td>\n",
              "      <td>3</td>\n",
              "      <td>348</td>\n",
              "      <td>15002</td>\n",
              "      <td>3336</td>\n",
              "      <td>124</td>\n",
              "      <td>504</td>\n",
              "      <td>21</td>\n",
              "      <td>104</td>\n",
              "      <td>307</td>\n",
              "      <td>2056</td>\n",
              "      <td>195</td>\n",
              "      <td>17</td>\n",
              "      <td>2513</td>\n",
              "      <td>644</td>\n",
              "      <td>2203</td>\n",
              "      <td>2358</td>\n",
              "      <td>7955</td>\n",
              "    </tr>\n",
              "    <tr>\n",
              "      <th>50%</th>\n",
              "      <td>2014</td>\n",
              "      <td>84</td>\n",
              "      <td>89</td>\n",
              "      <td>0</td>\n",
              "      <td>0</td>\n",
              "      <td>42</td>\n",
              "      <td>3</td>\n",
              "      <td>87</td>\n",
              "      <td>2755</td>\n",
              "      <td>1876</td>\n",
              "      <td>94</td>\n",
              "      <td>9</td>\n",
              "      <td>9</td>\n",
              "      <td>205</td>\n",
              "      <td>11381</td>\n",
              "      <td>3092</td>\n",
              "      <td>7</td>\n",
              "      <td>387</td>\n",
              "      <td>15817</td>\n",
              "      <td>3641</td>\n",
              "      <td>157</td>\n",
              "      <td>609</td>\n",
              "      <td>29</td>\n",
              "      <td>113</td>\n",
              "      <td>402</td>\n",
              "      <td>2356</td>\n",
              "      <td>269</td>\n",
              "      <td>27</td>\n",
              "      <td>2828</td>\n",
              "      <td>784</td>\n",
              "      <td>2641</td>\n",
              "      <td>2753</td>\n",
              "      <td>8507</td>\n",
              "    </tr>\n",
              "    <tr>\n",
              "      <th>75%</th>\n",
              "      <td>2017</td>\n",
              "      <td>98</td>\n",
              "      <td>104</td>\n",
              "      <td>2</td>\n",
              "      <td>2</td>\n",
              "      <td>52</td>\n",
              "      <td>5</td>\n",
              "      <td>107</td>\n",
              "      <td>3201</td>\n",
              "      <td>2184</td>\n",
              "      <td>118</td>\n",
              "      <td>11</td>\n",
              "      <td>12</td>\n",
              "      <td>229</td>\n",
              "      <td>12653</td>\n",
              "      <td>3611</td>\n",
              "      <td>10</td>\n",
              "      <td>445</td>\n",
              "      <td>17032</td>\n",
              "      <td>3943</td>\n",
              "      <td>225</td>\n",
              "      <td>710</td>\n",
              "      <td>39</td>\n",
              "      <td>135</td>\n",
              "      <td>468</td>\n",
              "      <td>2545</td>\n",
              "      <td>339</td>\n",
              "      <td>45</td>\n",
              "      <td>3062</td>\n",
              "      <td>1078</td>\n",
              "      <td>2920</td>\n",
              "      <td>3172</td>\n",
              "      <td>9265</td>\n",
              "    </tr>\n",
              "    <tr>\n",
              "      <th>max</th>\n",
              "      <td>2019</td>\n",
              "      <td>156</td>\n",
              "      <td>176</td>\n",
              "      <td>8</td>\n",
              "      <td>11</td>\n",
              "      <td>82</td>\n",
              "      <td>33</td>\n",
              "      <td>193</td>\n",
              "      <td>4283</td>\n",
              "      <td>2609</td>\n",
              "      <td>215</td>\n",
              "      <td>17</td>\n",
              "      <td>17</td>\n",
              "      <td>329</td>\n",
              "      <td>14927</td>\n",
              "      <td>5082</td>\n",
              "      <td>24</td>\n",
              "      <td>655</td>\n",
              "      <td>23693</td>\n",
              "      <td>4587</td>\n",
              "      <td>1399</td>\n",
              "      <td>945</td>\n",
              "      <td>73</td>\n",
              "      <td>190</td>\n",
              "      <td>679</td>\n",
              "      <td>3217</td>\n",
              "      <td>504</td>\n",
              "      <td>131</td>\n",
              "      <td>3835</td>\n",
              "      <td>1501</td>\n",
              "      <td>3496</td>\n",
              "      <td>3669</td>\n",
              "      <td>11963</td>\n",
              "    </tr>\n",
              "  </tbody>\n",
              "</table>\n",
              "</div>"
            ],
            "text/plain": [
              "        ano  ...  inqueritos_policiais_instaurados\n",
              "count   132  ...                               132\n",
              "mean   2014  ...                              8690\n",
              "std       3  ...                              1067\n",
              "min    2009  ...                              6318\n",
              "25%    2011  ...                              7955\n",
              "50%    2014  ...                              8507\n",
              "75%    2017  ...                              9265\n",
              "max    2019  ...                             11963\n",
              "\n",
              "[8 rows x 33 columns]"
            ]
          },
          "metadata": {
            "tags": []
          },
          "execution_count": 8
        }
      ]
    },
    {
      "cell_type": "markdown",
      "metadata": {
        "id": "2H1nQNCzMjdf",
        "colab_type": "text"
      },
      "source": [
        "### Média de Roubo/Furto de Veículos\n",
        "\n",
        "Vamos calcular as médias das colunas `roubo_veiculo`, `furto_veiculo`, `veiculos_recuperados`."
      ]
    },
    {
      "cell_type": "code",
      "metadata": {
        "id": "XeFj5j055qSI",
        "colab_type": "code",
        "outputId": "f441a7ae-659a-4174-bd4a-2c410f86e220",
        "colab": {
          "base_uri": "https://localhost:8080/",
          "height": 53
        }
      },
      "source": [
        "# media da coluna roubo_veiculo\n",
        "media_roubo_veiculo = df.roubo_veiculo.mean()\n",
        "print(\"A média de roubo de veículos por mês é:\\t {:.2f}\".format(media_roubo_veiculo))\n",
        "\n",
        "# media da coluna furto_veiculo\n",
        "media_furto_veiculo = df.furto_veiculo.mean()\n",
        "print(\"A média de furto de veículos por mês é:\\t {:.2f}\".format(media_furto_veiculo))"
      ],
      "execution_count": 9,
      "outputs": [
        {
          "output_type": "stream",
          "text": [
            "A média de roubo de veículos por mês é:\t 3123.91\n",
            "A média de furto de veículos por mês é:\t 3626.27\n"
          ],
          "name": "stdout"
        }
      ]
    },
    {
      "cell_type": "code",
      "metadata": {
        "id": "pQvxZYLwI9w3",
        "colab_type": "code",
        "outputId": "b1bc9667-2946-4c78-f0ca-74243e52106d",
        "colab": {
          "base_uri": "https://localhost:8080/",
          "height": 35
        }
      },
      "source": [
        "# media da coluna veiculos_recuperados\n",
        "media_veiculos_recuperados = df.veiculos_recuperados.mean()\n",
        "print(\"A média de veículos recuperados por mês é:\\t {:.2f}\".format(media_veiculos_recuperados))"
      ],
      "execution_count": 10,
      "outputs": [
        {
          "output_type": "stream",
          "text": [
            "A média de veículos recuperados por mês é:\t 2730.55\n"
          ],
          "name": "stdout"
        }
      ]
    },
    {
      "cell_type": "markdown",
      "metadata": {
        "id": "jLOjexMxXpvL",
        "colab_type": "text"
      },
      "source": [
        "### Porcentagem de veículos recuperados\n",
        "\n",
        "Com as médias coletadas é possível calcular a porcentagem de veículos recuperados em relação aos veiculos roubados + veiculos furtados."
      ]
    },
    {
      "cell_type": "code",
      "metadata": {
        "id": "weZ1m7TQK1aP",
        "colab_type": "code",
        "outputId": "6954ed9a-0d08-4b5f-d199-cf59b8dd9bfd",
        "colab": {
          "base_uri": "https://localhost:8080/",
          "height": 35
        }
      },
      "source": [
        "# \n",
        "calc = (media_veiculos_recuperados / (media_roubo_veiculo + media_furto_veiculo))\n",
        "print(\"Cerda de {:.2%} dos veiculos roubados, são recuperados\".format(calc))"
      ],
      "execution_count": 11,
      "outputs": [
        {
          "output_type": "stream",
          "text": [
            "Cerda de 40.45% dos veiculos roubados, são recuperados\n"
          ],
          "name": "stdout"
        }
      ]
    },
    {
      "cell_type": "markdown",
      "metadata": {
        "id": "fHFnY3Ixc9Rg",
        "colab_type": "text"
      },
      "source": [
        "### Análise de Homicidios Dolosos\n",
        "\n",
        "Vamos utilizar a coluna `homicidio_doloso` e encontrar o máximo e minímo de casos por mês."
      ]
    },
    {
      "cell_type": "code",
      "metadata": {
        "id": "B1tg_rEtLlr6",
        "colab_type": "code",
        "outputId": "5975cdda-9dde-4f29-a9d5-6587c110fa51",
        "colab": {
          "base_uri": "https://localhost:8080/",
          "height": 35
        }
      },
      "source": [
        "# buscar o maximo de homicidio doloso\n",
        "df.homicidio_doloso.max()"
      ],
      "execution_count": 12,
      "outputs": [
        {
          "output_type": "execute_result",
          "data": {
            "text/plain": [
              "156"
            ]
          },
          "metadata": {
            "tags": []
          },
          "execution_count": 12
        }
      ]
    },
    {
      "cell_type": "code",
      "metadata": {
        "id": "ShKv4InaNhrF",
        "colab_type": "code",
        "outputId": "fac495ee-de4c-41ab-aad6-099ea5d2fcf5",
        "colab": {
          "base_uri": "https://localhost:8080/",
          "height": 35
        }
      },
      "source": [
        "# buscar o minimo de homicidio doloso\n",
        "df.homicidio_doloso.min()"
      ],
      "execution_count": 13,
      "outputs": [
        {
          "output_type": "execute_result",
          "data": {
            "text/plain": [
              "40"
            ]
          },
          "metadata": {
            "tags": []
          },
          "execution_count": 13
        }
      ]
    },
    {
      "cell_type": "markdown",
      "metadata": {
        "id": "3IUzW190oO8A",
        "colab_type": "text"
      },
      "source": [
        "# Visualização de Dados\n",
        "\n",
        "Agora que possuímos os valores máximo e minímo de homicidio doloso, vamos plotar um histograma para uma melhor visualização dos demais casos."
      ]
    },
    {
      "cell_type": "code",
      "metadata": {
        "id": "QfCTyVXXNkOc",
        "colab_type": "code",
        "outputId": "bed97b79-9445-4000-a075-06adace19782",
        "colab": {
          "base_uri": "https://localhost:8080/",
          "height": 265
        }
      },
      "source": [
        "# plotar histograma\n",
        "df.homicidio_doloso.hist();"
      ],
      "execution_count": 14,
      "outputs": [
        {
          "output_type": "display_data",
          "data": {
            "image/png": "[encoded data removed]",
            "text/plain": [
              "<Figure size 432x288 with 1 Axes>"
            ]
          },
          "metadata": {
            "tags": []
          }
        }
      ]
    },
    {
      "cell_type": "markdown",
      "metadata": {
        "id": "52p2DjQr1sIc",
        "colab_type": "text"
      },
      "source": [
        "### Qual a média de roubos por ano? \n",
        "\n",
        "A coluna `roubos_outros` representa o total de roubos que não estão relacionados com roubo de bancos, de carga e de veículos. Vamos plotar um gráfico de linha para visualização da média de casos por ano no Estado e descobrir em qual mês ocorre maior número de casos. "
      ]
    },
    {
      "cell_type": "code",
      "metadata": {
        "id": "iX3ABLnRNoxK",
        "colab_type": "code",
        "outputId": "cc37cc37-a38d-41e0-cc9c-f7768d4d1648",
        "colab": {
          "base_uri": "https://localhost:8080/",
          "height": 279
        }
      },
      "source": [
        "# plotar grafico de linha da coluna roubo_outros\n",
        "df.groupby(\"ano\")['roubo_outros'].mean().plot(kind='line');"
      ],
      "execution_count": 15,
      "outputs": [
        {
          "output_type": "display_data",
          "data": {
            "image/png": "[encoded data removed]",
            "text/plain": [
              "<Figure size 432x288 with 1 Axes>"
            ]
          },
          "metadata": {
            "tags": []
          }
        }
      ]
    },
    {
      "cell_type": "markdown",
      "metadata": {
        "id": "aYYLZm5CU7Sa",
        "colab_type": "text"
      },
      "source": [
        "Através do gráfico é possível observar que houve um aumento grande no número de roubos entre o ano de 2012 e 2014. Entre 2016 e 2019 houve uma queda. "
      ]
    },
    {
      "cell_type": "code",
      "metadata": {
        "id": "yINzvtWQTWCs",
        "colab_type": "code",
        "colab": {
          "base_uri": "https://localhost:8080/",
          "height": 269
        },
        "outputId": "2910011f-1e7d-45ef-bdd9-ea761a24e140"
      },
      "source": [
        "df.groupby(\"mes\")['roubo_outros'].max().sort_values(ascending=False)"
      ],
      "execution_count": 19,
      "outputs": [
        {
          "output_type": "execute_result",
          "data": {
            "text/plain": [
              "mes\n",
              "Mar    14927\n",
              "Mai    14716\n",
              "Out    14146\n",
              "Set    14025\n",
              "Abr    13909\n",
              "Ago    13869\n",
              "Nov    13854\n",
              "Jul    13689\n",
              "Jan    13416\n",
              "Jun    13185\n",
              "Fev    13171\n",
              "Dez    12832\n",
              "Name: roubo_outros, dtype: int64"
            ]
          },
          "metadata": {
            "tags": []
          },
          "execution_count": 19
        }
      ]
    },
    {
      "cell_type": "markdown",
      "metadata": {
        "id": "NTuYiwtjVUll",
        "colab_type": "text"
      },
      "source": [
        "O mês de março foi o mês que mais ocorreu número de roubos e o mês de dezembro foi o menor."
      ]
    },
    {
      "cell_type": "markdown",
      "metadata": {
        "id": "NIuThPLpoWOq",
        "colab_type": "text"
      },
      "source": [
        "# Conclusão\n",
        "\n",
        "Foi feito uma análise resumida com base nos dados da Secretaria de Segurança pública do Estado de São Paulo. Existem diversas colunas e entradas mas selecionamos apenas algumas delas para realizarmos o estudo. \n",
        "\n",
        "Com base no estudo foi possível extrair diversas informações como a porcentagem dos veículos recuperados pela policia que é de 40%, o máximo de casos de homicidio doloso em um mês, o mês que mais houve casos de roubos e a variação de roubos por ano.\n",
        "\n"
      ]
    },
    {
      "cell_type": "code",
      "metadata": {
        "id": "v4lww2JNWK95",
        "colab_type": "code",
        "colab": {}
      },
      "source": [
        ""
      ],
      "execution_count": 0,
      "outputs": []
    }
  ]
}